{
  "nbformat": 4,
  "nbformat_minor": 0,
  "metadata": {
    "colab": {
      "provenance": [],
      "collapsed_sections": [],
      "include_colab_link": true
    },
    "kernelspec": {
      "name": "python3",
      "display_name": "Python 3"
    },
    "language_info": {
      "name": "python"
    }
  },
  "cells": [
    {
      "cell_type": "markdown",
      "metadata": {
        "id": "view-in-github",
        "colab_type": "text"
      },
      "source": [
        "<a href=\"https://colab.research.google.com/github/Kunj0201/Potential-Loan-defaults-Prediction/blob/main/Potential_Loan_Defaults.ipynb\" target=\"_parent\"><img src=\"https://colab.research.google.com/assets/colab-badge.svg\" alt=\"Open In Colab\"/></a>"
      ]
    },
    {
      "cell_type": "code",
      "metadata": {
        "id": "4B_ds15RN3TD",
        "colab": {
          "base_uri": "https://localhost:8080/"
        },
        "outputId": "b926ffbe-5624-4667-cdb4-f518f89d7e31"
      },
      "source": [
        "from google.colab import drive\n",
        "drive._mount('/content/drive',force_remount=True)"
      ],
      "execution_count": null,
      "outputs": [
        {
          "output_type": "stream",
          "name": "stdout",
          "text": [
            "Mounted at /content/drive\n"
          ]
        }
      ]
    },
    {
      "cell_type": "code",
      "metadata": {
        "id": "4xQbURPM2W52"
      },
      "source": [
        "import pandas as pd\n",
        "import numpy as np \n",
        "import warnings\n",
        "\n",
        "#For Plotting\n",
        "import matplotlib.pyplot as plt \n",
        "import seaborn as sns\n",
        "\n",
        "#Other Libraries\n",
        "from sklearn.preprocessing import LabelEncoder\n",
        "from sklearn.model_selection import train_test_split\n",
        "from sklearn.metrics import confusion_matrix\n",
        "from sklearn.metrics import accuracy_score\n",
        "\n",
        "#Models to be used\n",
        "\n",
        "from sklearn.tree import DecisionTreeClassifier\n"
      ],
      "execution_count": null,
      "outputs": []
    },
    {
      "cell_type": "code",
      "metadata": {
        "id": "WIzNy07nPzRC"
      },
      "source": [
        "import warnings\n",
        "warnings.filterwarnings('ignore')"
      ],
      "execution_count": null,
      "outputs": []
    },
    {
      "cell_type": "code",
      "metadata": {
        "id": "TY4ztSwy2_Qo"
      },
      "source": [
        "#df = pd.read_csv('/DATA_600.csv')\n",
        "df = pd.read_csv('/content/drive/MyDrive/DMT project (Loan-Defaults-Prediction)/DATASET/DATA_600.csv')\n",
        "data = pd.read_csv('/content/drive/MyDrive/DMT project (Loan-Defaults-Prediction)/DATASET/DATA_600.csv')\n",
        "#df = pd.read_csv('/content/DATA_600.csv')\n",
        "#/content/drive/my-drive/DMT project (Loan-Defaults-Prediction)/DATASET/DATA_600.csv"
      ],
      "execution_count": null,
      "outputs": []
    },
    {
      "cell_type": "code",
      "metadata": {
        "colab": {
          "base_uri": "https://localhost:8080/",
          "height": 243
        },
        "id": "uhuDeVQo3RI8",
        "outputId": "1c8dda41-0c88-4533-dae1-f7c30173b179"
      },
      "source": [
        "df.head()"
      ],
      "execution_count": null,
      "outputs": [
        {
          "output_type": "execute_result",
          "data": {
            "text/html": [
              "<div>\n",
              "<style scoped>\n",
              "    .dataframe tbody tr th:only-of-type {\n",
              "        vertical-align: middle;\n",
              "    }\n",
              "\n",
              "    .dataframe tbody tr th {\n",
              "        vertical-align: top;\n",
              "    }\n",
              "\n",
              "    .dataframe thead th {\n",
              "        text-align: right;\n",
              "    }\n",
              "</style>\n",
              "<table border=\"1\" class=\"dataframe\">\n",
              "  <thead>\n",
              "    <tr style=\"text-align: right;\">\n",
              "      <th></th>\n",
              "      <th>Loan_ID</th>\n",
              "      <th>Gender</th>\n",
              "      <th>Married</th>\n",
              "      <th>Dependents</th>\n",
              "      <th>Education</th>\n",
              "      <th>Self_Employed</th>\n",
              "      <th>ApplicantIncome</th>\n",
              "      <th>CoapplicantIncome</th>\n",
              "      <th>LoanAmount</th>\n",
              "      <th>Loan_Amount_Term</th>\n",
              "      <th>Credit_History</th>\n",
              "      <th>Property_Area</th>\n",
              "      <th>Loan_Status</th>\n",
              "    </tr>\n",
              "  </thead>\n",
              "  <tbody>\n",
              "    <tr>\n",
              "      <th>0</th>\n",
              "      <td>LP001002</td>\n",
              "      <td>Male</td>\n",
              "      <td>No</td>\n",
              "      <td>0</td>\n",
              "      <td>Graduate</td>\n",
              "      <td>No</td>\n",
              "      <td>5849</td>\n",
              "      <td>0.0</td>\n",
              "      <td>NaN</td>\n",
              "      <td>360.0</td>\n",
              "      <td>1.0</td>\n",
              "      <td>Urban</td>\n",
              "      <td>Y</td>\n",
              "    </tr>\n",
              "    <tr>\n",
              "      <th>1</th>\n",
              "      <td>LP001003</td>\n",
              "      <td>Male</td>\n",
              "      <td>Yes</td>\n",
              "      <td>1</td>\n",
              "      <td>Graduate</td>\n",
              "      <td>No</td>\n",
              "      <td>4583</td>\n",
              "      <td>1508.0</td>\n",
              "      <td>128.0</td>\n",
              "      <td>360.0</td>\n",
              "      <td>1.0</td>\n",
              "      <td>Rural</td>\n",
              "      <td>N</td>\n",
              "    </tr>\n",
              "    <tr>\n",
              "      <th>2</th>\n",
              "      <td>LP001005</td>\n",
              "      <td>Male</td>\n",
              "      <td>Yes</td>\n",
              "      <td>0</td>\n",
              "      <td>Graduate</td>\n",
              "      <td>Yes</td>\n",
              "      <td>3000</td>\n",
              "      <td>0.0</td>\n",
              "      <td>66.0</td>\n",
              "      <td>360.0</td>\n",
              "      <td>1.0</td>\n",
              "      <td>Urban</td>\n",
              "      <td>Y</td>\n",
              "    </tr>\n",
              "    <tr>\n",
              "      <th>3</th>\n",
              "      <td>LP001006</td>\n",
              "      <td>Male</td>\n",
              "      <td>Yes</td>\n",
              "      <td>0</td>\n",
              "      <td>Not Graduate</td>\n",
              "      <td>No</td>\n",
              "      <td>2583</td>\n",
              "      <td>2358.0</td>\n",
              "      <td>120.0</td>\n",
              "      <td>360.0</td>\n",
              "      <td>1.0</td>\n",
              "      <td>Urban</td>\n",
              "      <td>Y</td>\n",
              "    </tr>\n",
              "    <tr>\n",
              "      <th>4</th>\n",
              "      <td>LP001008</td>\n",
              "      <td>Male</td>\n",
              "      <td>No</td>\n",
              "      <td>0</td>\n",
              "      <td>Graduate</td>\n",
              "      <td>No</td>\n",
              "      <td>6000</td>\n",
              "      <td>0.0</td>\n",
              "      <td>141.0</td>\n",
              "      <td>360.0</td>\n",
              "      <td>1.0</td>\n",
              "      <td>Urban</td>\n",
              "      <td>Y</td>\n",
              "    </tr>\n",
              "  </tbody>\n",
              "</table>\n",
              "</div>"
            ],
            "text/plain": [
              "    Loan_ID Gender Married  ... Credit_History Property_Area Loan_Status\n",
              "0  LP001002   Male      No  ...            1.0         Urban           Y\n",
              "1  LP001003   Male     Yes  ...            1.0         Rural           N\n",
              "2  LP001005   Male     Yes  ...            1.0         Urban           Y\n",
              "3  LP001006   Male     Yes  ...            1.0         Urban           Y\n",
              "4  LP001008   Male      No  ...            1.0         Urban           Y\n",
              "\n",
              "[5 rows x 13 columns]"
            ]
          },
          "metadata": {},
          "execution_count": 1024
        }
      ]
    },
    {
      "cell_type": "code",
      "metadata": {
        "id": "ZTSFYSsTrK-y"
      },
      "source": [],
      "execution_count": null,
      "outputs": []
    },
    {
      "cell_type": "code",
      "metadata": {
        "colab": {
          "base_uri": "https://localhost:8080/",
          "height": 226
        },
        "id": "6j34zOQr-YLD",
        "outputId": "5f7b6bb5-38f8-41e4-a6d4-de23d7b8b424"
      },
      "source": [
        "df.tail()"
      ],
      "execution_count": null,
      "outputs": [
        {
          "output_type": "execute_result",
          "data": {
            "text/html": [
              "<div>\n",
              "<style scoped>\n",
              "    .dataframe tbody tr th:only-of-type {\n",
              "        vertical-align: middle;\n",
              "    }\n",
              "\n",
              "    .dataframe tbody tr th {\n",
              "        vertical-align: top;\n",
              "    }\n",
              "\n",
              "    .dataframe thead th {\n",
              "        text-align: right;\n",
              "    }\n",
              "</style>\n",
              "<table border=\"1\" class=\"dataframe\">\n",
              "  <thead>\n",
              "    <tr style=\"text-align: right;\">\n",
              "      <th></th>\n",
              "      <th>Loan_ID</th>\n",
              "      <th>Gender</th>\n",
              "      <th>Married</th>\n",
              "      <th>Dependents</th>\n",
              "      <th>Education</th>\n",
              "      <th>Self_Employed</th>\n",
              "      <th>ApplicantIncome</th>\n",
              "      <th>CoapplicantIncome</th>\n",
              "      <th>LoanAmount</th>\n",
              "      <th>Loan_Amount_Term</th>\n",
              "      <th>Credit_History</th>\n",
              "      <th>Property_Area</th>\n",
              "      <th>Loan_Status</th>\n",
              "    </tr>\n",
              "  </thead>\n",
              "  <tbody>\n",
              "    <tr>\n",
              "      <th>609</th>\n",
              "      <td>LP002978</td>\n",
              "      <td>Female</td>\n",
              "      <td>No</td>\n",
              "      <td>0</td>\n",
              "      <td>Graduate</td>\n",
              "      <td>No</td>\n",
              "      <td>2900</td>\n",
              "      <td>0.0</td>\n",
              "      <td>71.0</td>\n",
              "      <td>360.0</td>\n",
              "      <td>1.0</td>\n",
              "      <td>Rural</td>\n",
              "      <td>Y</td>\n",
              "    </tr>\n",
              "    <tr>\n",
              "      <th>610</th>\n",
              "      <td>LP002979</td>\n",
              "      <td>Male</td>\n",
              "      <td>Yes</td>\n",
              "      <td>3+</td>\n",
              "      <td>Graduate</td>\n",
              "      <td>No</td>\n",
              "      <td>4106</td>\n",
              "      <td>0.0</td>\n",
              "      <td>40.0</td>\n",
              "      <td>180.0</td>\n",
              "      <td>1.0</td>\n",
              "      <td>Rural</td>\n",
              "      <td>Y</td>\n",
              "    </tr>\n",
              "    <tr>\n",
              "      <th>611</th>\n",
              "      <td>LP002983</td>\n",
              "      <td>Male</td>\n",
              "      <td>Yes</td>\n",
              "      <td>1</td>\n",
              "      <td>Graduate</td>\n",
              "      <td>No</td>\n",
              "      <td>8072</td>\n",
              "      <td>240.0</td>\n",
              "      <td>253.0</td>\n",
              "      <td>360.0</td>\n",
              "      <td>1.0</td>\n",
              "      <td>Urban</td>\n",
              "      <td>Y</td>\n",
              "    </tr>\n",
              "    <tr>\n",
              "      <th>612</th>\n",
              "      <td>LP002984</td>\n",
              "      <td>Male</td>\n",
              "      <td>Yes</td>\n",
              "      <td>2</td>\n",
              "      <td>Graduate</td>\n",
              "      <td>No</td>\n",
              "      <td>7583</td>\n",
              "      <td>0.0</td>\n",
              "      <td>187.0</td>\n",
              "      <td>360.0</td>\n",
              "      <td>1.0</td>\n",
              "      <td>Urban</td>\n",
              "      <td>Y</td>\n",
              "    </tr>\n",
              "    <tr>\n",
              "      <th>613</th>\n",
              "      <td>LP002990</td>\n",
              "      <td>Female</td>\n",
              "      <td>No</td>\n",
              "      <td>0</td>\n",
              "      <td>Graduate</td>\n",
              "      <td>Yes</td>\n",
              "      <td>4583</td>\n",
              "      <td>0.0</td>\n",
              "      <td>133.0</td>\n",
              "      <td>360.0</td>\n",
              "      <td>0.0</td>\n",
              "      <td>Semiurban</td>\n",
              "      <td>N</td>\n",
              "    </tr>\n",
              "  </tbody>\n",
              "</table>\n",
              "</div>"
            ],
            "text/plain": [
              "      Loan_ID  Gender Married  ... Credit_History Property_Area Loan_Status\n",
              "609  LP002978  Female      No  ...            1.0         Rural           Y\n",
              "610  LP002979    Male     Yes  ...            1.0         Rural           Y\n",
              "611  LP002983    Male     Yes  ...            1.0         Urban           Y\n",
              "612  LP002984    Male     Yes  ...            1.0         Urban           Y\n",
              "613  LP002990  Female      No  ...            0.0     Semiurban           N\n",
              "\n",
              "[5 rows x 13 columns]"
            ]
          },
          "metadata": {},
          "execution_count": 1025
        }
      ]
    },
    {
      "cell_type": "code",
      "metadata": {
        "colab": {
          "base_uri": "https://localhost:8080/"
        },
        "id": "C3e2Balz-nT8",
        "outputId": "47511b09-9179-4a73-8040-ac39f4aaa53e"
      },
      "source": [
        "print(f\" Dataset (rows,columns): {df.shape}\")"
      ],
      "execution_count": null,
      "outputs": [
        {
          "output_type": "stream",
          "name": "stdout",
          "text": [
            " Dataset (rows,columns): (614, 13)\n"
          ]
        }
      ]
    },
    {
      "cell_type": "markdown",
      "metadata": {
        "id": "AlT2oASw9-wf"
      },
      "source": [
        "\n",
        "\n",
        "---\n",
        "\n",
        "\n",
        "\n",
        "\n",
        "---\n",
        "\n",
        "\n",
        "\n",
        "\n",
        "\n",
        "\n",
        "\n",
        "\n",
        "\n",
        "# **Now moving onto Data-Preprocessing** ⏬⏬\n",
        "\n",
        "\n"
      ]
    },
    {
      "cell_type": "code",
      "metadata": {
        "colab": {
          "base_uri": "https://localhost:8080/",
          "height": 300
        },
        "id": "y6pAv2W53w4E",
        "outputId": "a7693ffb-33a7-493e-b329-271735b29e35"
      },
      "source": [
        "df.describe()"
      ],
      "execution_count": null,
      "outputs": [
        {
          "output_type": "execute_result",
          "data": {
            "text/html": [
              "<div>\n",
              "<style scoped>\n",
              "    .dataframe tbody tr th:only-of-type {\n",
              "        vertical-align: middle;\n",
              "    }\n",
              "\n",
              "    .dataframe tbody tr th {\n",
              "        vertical-align: top;\n",
              "    }\n",
              "\n",
              "    .dataframe thead th {\n",
              "        text-align: right;\n",
              "    }\n",
              "</style>\n",
              "<table border=\"1\" class=\"dataframe\">\n",
              "  <thead>\n",
              "    <tr style=\"text-align: right;\">\n",
              "      <th></th>\n",
              "      <th>ApplicantIncome</th>\n",
              "      <th>CoapplicantIncome</th>\n",
              "      <th>LoanAmount</th>\n",
              "      <th>Loan_Amount_Term</th>\n",
              "      <th>Credit_History</th>\n",
              "    </tr>\n",
              "  </thead>\n",
              "  <tbody>\n",
              "    <tr>\n",
              "      <th>count</th>\n",
              "      <td>614.000000</td>\n",
              "      <td>614.000000</td>\n",
              "      <td>592.000000</td>\n",
              "      <td>600.00000</td>\n",
              "      <td>564.000000</td>\n",
              "    </tr>\n",
              "    <tr>\n",
              "      <th>mean</th>\n",
              "      <td>5403.459283</td>\n",
              "      <td>1621.245798</td>\n",
              "      <td>146.412162</td>\n",
              "      <td>342.00000</td>\n",
              "      <td>0.842199</td>\n",
              "    </tr>\n",
              "    <tr>\n",
              "      <th>std</th>\n",
              "      <td>6109.041673</td>\n",
              "      <td>2926.248369</td>\n",
              "      <td>85.587325</td>\n",
              "      <td>65.12041</td>\n",
              "      <td>0.364878</td>\n",
              "    </tr>\n",
              "    <tr>\n",
              "      <th>min</th>\n",
              "      <td>150.000000</td>\n",
              "      <td>0.000000</td>\n",
              "      <td>9.000000</td>\n",
              "      <td>12.00000</td>\n",
              "      <td>0.000000</td>\n",
              "    </tr>\n",
              "    <tr>\n",
              "      <th>25%</th>\n",
              "      <td>2877.500000</td>\n",
              "      <td>0.000000</td>\n",
              "      <td>100.000000</td>\n",
              "      <td>360.00000</td>\n",
              "      <td>1.000000</td>\n",
              "    </tr>\n",
              "    <tr>\n",
              "      <th>50%</th>\n",
              "      <td>3812.500000</td>\n",
              "      <td>1188.500000</td>\n",
              "      <td>128.000000</td>\n",
              "      <td>360.00000</td>\n",
              "      <td>1.000000</td>\n",
              "    </tr>\n",
              "    <tr>\n",
              "      <th>75%</th>\n",
              "      <td>5795.000000</td>\n",
              "      <td>2297.250000</td>\n",
              "      <td>168.000000</td>\n",
              "      <td>360.00000</td>\n",
              "      <td>1.000000</td>\n",
              "    </tr>\n",
              "    <tr>\n",
              "      <th>max</th>\n",
              "      <td>81000.000000</td>\n",
              "      <td>41667.000000</td>\n",
              "      <td>700.000000</td>\n",
              "      <td>480.00000</td>\n",
              "      <td>1.000000</td>\n",
              "    </tr>\n",
              "  </tbody>\n",
              "</table>\n",
              "</div>"
            ],
            "text/plain": [
              "       ApplicantIncome  CoapplicantIncome  ...  Loan_Amount_Term  Credit_History\n",
              "count       614.000000         614.000000  ...         600.00000      564.000000\n",
              "mean       5403.459283        1621.245798  ...         342.00000        0.842199\n",
              "std        6109.041673        2926.248369  ...          65.12041        0.364878\n",
              "min         150.000000           0.000000  ...          12.00000        0.000000\n",
              "25%        2877.500000           0.000000  ...         360.00000        1.000000\n",
              "50%        3812.500000        1188.500000  ...         360.00000        1.000000\n",
              "75%        5795.000000        2297.250000  ...         360.00000        1.000000\n",
              "max       81000.000000       41667.000000  ...         480.00000        1.000000\n",
              "\n",
              "[8 rows x 5 columns]"
            ]
          },
          "metadata": {},
          "execution_count": 1027
        }
      ]
    },
    {
      "cell_type": "code",
      "metadata": {
        "colab": {
          "base_uri": "https://localhost:8080/"
        },
        "id": "3TzMHFPc3TeJ",
        "outputId": "326db727-1e76-4d46-8c01-7c57073e7d88"
      },
      "source": [
        "df.info()"
      ],
      "execution_count": null,
      "outputs": [
        {
          "output_type": "stream",
          "name": "stdout",
          "text": [
            "<class 'pandas.core.frame.DataFrame'>\n",
            "RangeIndex: 614 entries, 0 to 613\n",
            "Data columns (total 13 columns):\n",
            " #   Column             Non-Null Count  Dtype  \n",
            "---  ------             --------------  -----  \n",
            " 0   Loan_ID            614 non-null    object \n",
            " 1   Gender             601 non-null    object \n",
            " 2   Married            611 non-null    object \n",
            " 3   Dependents         599 non-null    object \n",
            " 4   Education          614 non-null    object \n",
            " 5   Self_Employed      582 non-null    object \n",
            " 6   ApplicantIncome    614 non-null    int64  \n",
            " 7   CoapplicantIncome  614 non-null    float64\n",
            " 8   LoanAmount         592 non-null    float64\n",
            " 9   Loan_Amount_Term   600 non-null    float64\n",
            " 10  Credit_History     564 non-null    float64\n",
            " 11  Property_Area      614 non-null    object \n",
            " 12  Loan_Status        614 non-null    object \n",
            "dtypes: float64(4), int64(1), object(8)\n",
            "memory usage: 62.5+ KB\n"
          ]
        }
      ]
    },
    {
      "cell_type": "markdown",
      "metadata": {
        "id": "9UPN9s3U52OQ"
      },
      "source": [
        "Continous variables are: CoapplicantIncome, ApplicantIncome, LoanAmount, Loan_Amount_Term, Credit_History. \n",
        "\n",
        "Categorical Variables are: Loan_ID, Gender, Married, Dependents, Education, Self_Employed, Property_area, Loan_Status."
      ]
    },
    {
      "cell_type": "code",
      "metadata": {
        "id": "0n_0m1RQ-LOH"
      },
      "source": [
        "#\n",
        "#\n",
        "df.drop('Loan_ID',axis=1,inplace=True)\n",
        "df.head()\n",
        "#\n",
        "#\n",
        "df['Credit_History'] = df['Credit_History'].astype('O')"
      ],
      "execution_count": null,
      "outputs": []
    },
    {
      "cell_type": "code",
      "metadata": {
        "colab": {
          "base_uri": "https://localhost:8080/",
          "height": 174
        },
        "id": "FL4W58-QG7-U",
        "outputId": "bc6398f1-c744-4c61-da3c-5d000c3a3422"
      },
      "source": [
        "df.describe(include='O')"
      ],
      "execution_count": null,
      "outputs": [
        {
          "output_type": "execute_result",
          "data": {
            "text/html": [
              "<div>\n",
              "<style scoped>\n",
              "    .dataframe tbody tr th:only-of-type {\n",
              "        vertical-align: middle;\n",
              "    }\n",
              "\n",
              "    .dataframe tbody tr th {\n",
              "        vertical-align: top;\n",
              "    }\n",
              "\n",
              "    .dataframe thead th {\n",
              "        text-align: right;\n",
              "    }\n",
              "</style>\n",
              "<table border=\"1\" class=\"dataframe\">\n",
              "  <thead>\n",
              "    <tr style=\"text-align: right;\">\n",
              "      <th></th>\n",
              "      <th>Gender</th>\n",
              "      <th>Married</th>\n",
              "      <th>Dependents</th>\n",
              "      <th>Education</th>\n",
              "      <th>Self_Employed</th>\n",
              "      <th>Credit_History</th>\n",
              "      <th>Property_Area</th>\n",
              "      <th>Loan_Status</th>\n",
              "    </tr>\n",
              "  </thead>\n",
              "  <tbody>\n",
              "    <tr>\n",
              "      <th>count</th>\n",
              "      <td>601</td>\n",
              "      <td>611</td>\n",
              "      <td>599</td>\n",
              "      <td>614</td>\n",
              "      <td>582</td>\n",
              "      <td>564.0</td>\n",
              "      <td>614</td>\n",
              "      <td>614</td>\n",
              "    </tr>\n",
              "    <tr>\n",
              "      <th>unique</th>\n",
              "      <td>2</td>\n",
              "      <td>2</td>\n",
              "      <td>4</td>\n",
              "      <td>2</td>\n",
              "      <td>2</td>\n",
              "      <td>2.0</td>\n",
              "      <td>3</td>\n",
              "      <td>2</td>\n",
              "    </tr>\n",
              "    <tr>\n",
              "      <th>top</th>\n",
              "      <td>Male</td>\n",
              "      <td>Yes</td>\n",
              "      <td>0</td>\n",
              "      <td>Graduate</td>\n",
              "      <td>No</td>\n",
              "      <td>1.0</td>\n",
              "      <td>Semiurban</td>\n",
              "      <td>Y</td>\n",
              "    </tr>\n",
              "    <tr>\n",
              "      <th>freq</th>\n",
              "      <td>489</td>\n",
              "      <td>398</td>\n",
              "      <td>345</td>\n",
              "      <td>480</td>\n",
              "      <td>500</td>\n",
              "      <td>475.0</td>\n",
              "      <td>233</td>\n",
              "      <td>422</td>\n",
              "    </tr>\n",
              "  </tbody>\n",
              "</table>\n",
              "</div>"
            ],
            "text/plain": [
              "       Gender Married Dependents  ... Credit_History Property_Area  Loan_Status\n",
              "count     601     611        599  ...          564.0           614          614\n",
              "unique      2       2          4  ...            2.0             3            2\n",
              "top      Male     Yes          0  ...            1.0     Semiurban            Y\n",
              "freq      489     398        345  ...          475.0           233          422\n",
              "\n",
              "[4 rows x 8 columns]"
            ]
          },
          "metadata": {},
          "execution_count": 1030
        }
      ]
    },
    {
      "cell_type": "markdown",
      "metadata": {
        "id": "wLtcfbDtALsT"
      },
      "source": [
        "--> We removed the Loan ID column because it was irrelevant to our analysis.\n",
        "\n",
        "--> We changed the data type of Credit_History to because its just zeros and ones.\n",
        "\n",
        "<br>\n",
        "\n",
        "\n",
        "\n"
      ]
    },
    {
      "cell_type": "code",
      "metadata": {
        "colab": {
          "base_uri": "https://localhost:8080/"
        },
        "id": "awubi38SHiMb",
        "outputId": "476573f8-fc6f-4503-bdee-f245c7189a3a"
      },
      "source": [
        "#Looking for duplicate rows\n",
        "df.duplicated().any()"
      ],
      "execution_count": null,
      "outputs": [
        {
          "output_type": "execute_result",
          "data": {
            "text/plain": [
              "False"
            ]
          },
          "metadata": {},
          "execution_count": 1031
        }
      ]
    },
    {
      "cell_type": "code",
      "metadata": {
        "colab": {
          "base_uri": "https://localhost:8080/",
          "height": 424
        },
        "id": "ngqw3SrAIZJZ",
        "outputId": "95e8168a-2b5d-4f1f-f611-e18e0d14fb6a"
      },
      "source": [
        "#Looking at the target class\n",
        "\n",
        "plt.figure(figsize=(20,6))\n",
        "sns.countplot(df['Loan_Status'], color=\"black\");\n",
        "\n",
        "print('The percentage of Y class : %.2f' % (df['Loan_Status'].value_counts()[0]*100 / len(df)))\n",
        "print('The percentage of N class : %.2f' % (df['Loan_Status'].value_counts()[1]*100 / len(df)))\n",
        "\n",
        "#Very imbalanced data "
      ],
      "execution_count": null,
      "outputs": [
        {
          "output_type": "stream",
          "name": "stdout",
          "text": [
            "The percentage of Y class : 68.73\n",
            "The percentage of N class : 31.27\n"
          ]
        },
        {
          "output_type": "display_data",
          "data": {
            "image/png": "[encoded data removed]",
            "text/plain": [
              "<Figure size 1440x432 with 1 Axes>"
            ]
          },
          "metadata": {
            "needs_background": "light"
          }
        }
      ]
    },
    {
      "cell_type": "code",
      "metadata": {
        "colab": {
          "base_uri": "https://localhost:8080/",
          "height": 909
        },
        "id": "ORfnIUAyNVFS",
        "outputId": "df40a2a1-55f6-478d-eb26-038e6bb04f55"
      },
      "source": [
        "#Plotting Graphs for all the categorical data to understand them\n",
        "\n",
        "#Credit_History\n",
        "grid = sns.FacetGrid(data,col='Loan_Status', size=3.2, aspect=1.6)\n",
        "grid.map(sns.countplot, 'Credit_History',palette=['#432371',\"#FAAE7B\"]);\n",
        "\n",
        "#Gender\n",
        "grid = sns.FacetGrid(df,col='Loan_Status', size=3.2, aspect=1.6)\n",
        "grid.map(sns.countplot, 'Gender',palette=['#432371',\"#FAAE7B\"]);\n",
        "\n",
        "#Education\n",
        "grid = sns.FacetGrid(df,col='Loan_Status', size=3.2, aspect=1.6)\n",
        "grid.map(sns.countplot, 'Education',palette=['#432371',\"#FAAE7B\"]);\n",
        "\n",
        "#Self_Employed\n",
        "grid = sns.FacetGrid(df,col='Loan_Status', size=3.2, aspect=1.6)\n",
        "grid.map(sns.countplot, 'Self_Employed',palette=['#432371',\"#FAAE7B\"]);\n",
        "\n"
      ],
      "execution_count": null,
      "outputs": [
        {
          "output_type": "display_data",
          "data": {
            "image/png": "[encoded data removed]",
            "text/plain": [
              "<Figure size 737.28x230.4 with 2 Axes>"
            ]
          },
          "metadata": {
            "needs_background": "light"
          }
        },
        {
          "output_type": "display_data",
          "data": {
            "image/png": "[encoded data removed]",
            "text/plain": [
              "<Figure size 737.28x230.4 with 2 Axes>"
            ]
          },
          "metadata": {
            "needs_background": "light"
          }
        },
        {
          "output_type": "display_data",
          "data": {
            "image/png": "[encoded data removed]",
            "text/plain": [
              "<Figure size 737.28x230.4 with 2 Axes>"
            ]
          },
          "metadata": {
            "needs_background": "light"
          }
        },
        {
          "output_type": "display_data",
          "data": {
            "image/png": "[encoded data removed]",
            "text/plain": [
              "<Figure size 737.28x230.4 with 2 Axes>"
            ]
          },
          "metadata": {
            "needs_background": "light"
          }
        }
      ]
    },
    {
      "cell_type": "code",
      "metadata": {
        "id": "DrK4r6Mg85g-"
      },
      "source": [],
      "execution_count": null,
      "outputs": []
    },
    {
      "cell_type": "markdown",
      "metadata": {
        "id": "Qc_ufm60P5Pi"
      },
      "source": [
        "# Interpretation of the Graphs above:     \n",
        "\n",
        "\n",
        "1. We can observe that if you have Credit History = 1 , you will have better chance to get a loan. ⭐⭐\n",
        "2. Most males and females got loans so this is not really a great differentiaing feature.⭐\n",
        "3. If you are graduated or not, you will get almost the same chance to get a loan (No pattern)\n",
        "4. We observe that there is no pattern.\n",
        "\n",
        "\n",
        "\n"
      ]
    },
    {
      "cell_type": "code",
      "metadata": {
        "colab": {
          "base_uri": "https://localhost:8080/",
          "height": 969
        },
        "id": "u2JAKQE3R-jy",
        "outputId": "de880fb2-a391-4a3e-8286-5537ca926a0c"
      },
      "source": [
        "#Married\n",
        "plt.figure(figsize=(12.11,5))\n",
        "sns.countplot(x='Married', hue='Loan_Status', data=df,palette=['#432371',\"#FAAE7B\"]);\n",
        "\n",
        "# Dependents\n",
        "plt.figure(figsize=(12.11,5))\n",
        "sns.countplot(x='Dependents', hue='Loan_Status', data=df,palette=['#432371',\"#FAAE7B\"]);\n",
        "\n",
        "# Property_Area\n",
        "plt.figure(figsize=(12.11,5))\n",
        "sns.countplot(x='Property_Area', hue='Loan_Status', data=df,palette=['#432371',\"#FAAE7B\"]);"
      ],
      "execution_count": null,
      "outputs": [
        {
          "output_type": "display_data",
          "data": {
            "image/png": "[encoded data removed]",
            "text/plain": [
              "<Figure size 871.92x360 with 1 Axes>"
            ]
          },
          "metadata": {
            "needs_background": "light"
          }
        },
        {
          "output_type": "display_data",
          "data": {
            "image/png": "[encoded data removed]",
            "text/plain": [
              "<Figure size 871.92x360 with 1 Axes>"
            ]
          },
          "metadata": {
            "needs_background": "light"
          }
        },
        {
          "output_type": "display_data",
          "data": {
            "image/png": "[encoded data removed]",
            "text/plain": [
              "<Figure size 871.92x360 with 1 Axes>"
            ]
          },
          "metadata": {
            "needs_background": "light"
          }
        }
      ]
    },
    {
      "cell_type": "markdown",
      "metadata": {
        "id": "biOo9_oISSNh"
      },
      "source": [
        "# Interpretation of the Graphs above:    \n",
        "\n",
        "\n",
        "1. Most people who get married did get a loan, so married people have a higher chance of receiving a loan. ⭐\n",
        "2. We observe that if there are no dependants then the chances of receiving a loan is very high. ⭐\n",
        "3. We observe that semi-urban property area has a very high chance of receiving a loan. ⭐\n",
        "\n"
      ]
    },
    {
      "cell_type": "code",
      "metadata": {
        "colab": {
          "base_uri": "https://localhost:8080/",
          "height": 265
        },
        "id": "Co7ZFTNVTXIz",
        "outputId": "9ead89ae-7e32-4125-f9d6-43340f89093e"
      },
      "source": [
        "#Income\n",
        "plt.scatter(df['ApplicantIncome'], df['Loan_Status']);\n",
        "\n",
        "#No pattern"
      ],
      "execution_count": null,
      "outputs": [
        {
          "output_type": "display_data",
          "data": {
            "image/png": "[encoded data removed]",
            "text/plain": [
              "<Figure size 432x288 with 1 Axes>"
            ]
          },
          "metadata": {
            "needs_background": "light"
          }
        }
      ]
    },
    {
      "cell_type": "code",
      "metadata": {
        "colab": {
          "base_uri": "https://localhost:8080/"
        },
        "id": "DRAPxnXEVm0U",
        "outputId": "dc9101bb-494b-442d-b405-58ab776d8354"
      },
      "source": [
        "#Understanding numerical or continous data\n",
        "\n",
        "df.groupby('Loan_Status').median(), df.groupby('Loan_Status').mean()"
      ],
      "execution_count": null,
      "outputs": [
        {
          "output_type": "execute_result",
          "data": {
            "text/plain": [
              "(             ApplicantIncome  CoapplicantIncome  LoanAmount  Loan_Amount_Term\n",
              " Loan_Status                                                                  \n",
              " N                     3833.5              268.0       129.0             360.0\n",
              " Y                     3812.5             1239.5       126.0             360.0,\n",
              "              ApplicantIncome  CoapplicantIncome  LoanAmount  Loan_Amount_Term\n",
              " Loan_Status                                                                  \n",
              " N                5446.078125        1877.807292  151.220994        344.064516\n",
              " Y                5384.068720        1504.516398  144.294404        341.072464)"
            ]
          },
          "metadata": {},
          "execution_count": 1036
        }
      ]
    },
    {
      "cell_type": "markdown",
      "metadata": {
        "id": "xEFeYEPwWPYm"
      },
      "source": [
        "--> We can observe that for a very low Coapplicant income 268.0 loan was denied, so its a good feature."
      ]
    },
    {
      "cell_type": "code",
      "metadata": {
        "colab": {
          "base_uri": "https://localhost:8080/",
          "height": 282
        },
        "id": "zVISAjJwXBse",
        "outputId": "f0032d1a-5cfc-4fab-fe1b-eaac1f3f35d6"
      },
      "source": [
        "#Histogram to group data into bins\n",
        "df['ApplicantIncome'].hist(bins=50)"
      ],
      "execution_count": null,
      "outputs": [
        {
          "output_type": "execute_result",
          "data": {
            "text/plain": [
              "<matplotlib.axes._subplots.AxesSubplot at 0x7f01f45a3650>"
            ]
          },
          "metadata": {},
          "execution_count": 1037
        },
        {
          "output_type": "display_data",
          "data": {
            "image/png": "[encoded data removed]",
            "text/plain": [
              "<Figure size 432x288 with 1 Axes>"
            ]
          },
          "metadata": {
            "needs_background": "light"
          }
        }
      ]
    },
    {
      "cell_type": "markdown",
      "metadata": {
        "id": "DXODHVxAYVUR"
      },
      "source": [
        "--> Through the histogram, we can come to a conclusion that there are negligible extreme values"
      ]
    },
    {
      "cell_type": "code",
      "metadata": {
        "colab": {
          "base_uri": "https://localhost:8080/",
          "height": 282
        },
        "id": "zruULSgAYmie",
        "outputId": "65a6b36a-6314-4631-b965-c41defa6de52"
      },
      "source": [
        "#Boxplot to understand the distributions\n",
        "df.boxplot(column='ApplicantIncome')"
      ],
      "execution_count": null,
      "outputs": [
        {
          "output_type": "execute_result",
          "data": {
            "text/plain": [
              "<matplotlib.axes._subplots.AxesSubplot at 0x7f01f3de38d0>"
            ]
          },
          "metadata": {},
          "execution_count": 1038
        },
        {
          "output_type": "display_data",
          "data": {
            "image/png": "[encoded data removed]",
            "text/plain": [
              "<Figure size 432x288 with 1 Axes>"
            ]
          },
          "metadata": {
            "needs_background": "light"
          }
        }
      ]
    },
    {
      "cell_type": "markdown",
      "metadata": {
        "id": "WmQUpA3sZCHL"
      },
      "source": [
        "--> We can observe a lot of outliers in the boxplot, which shows the unequal wealth distribution. One reason could be the difference in education levels. Now let us see how the boxplot looks with respect to education"
      ]
    },
    {
      "cell_type": "code",
      "metadata": {
        "colab": {
          "base_uri": "https://localhost:8080/",
          "height": 318
        },
        "id": "Q0qR4-A7hB5q",
        "outputId": "db0e2cbe-4989-40cf-ba3f-e57df347434c"
      },
      "source": [
        "df.boxplot(column='ApplicantIncome', by='Education')"
      ],
      "execution_count": null,
      "outputs": [
        {
          "output_type": "execute_result",
          "data": {
            "text/plain": [
              "<matplotlib.axes._subplots.AxesSubplot at 0x7f01fa2fe1d0>"
            ]
          },
          "metadata": {},
          "execution_count": 1039
        },
        {
          "output_type": "display_data",
          "data": {
            "image/png": "[encoded data removed]",
            "text/plain": [
              "<Figure size 432x288 with 1 Axes>"
            ]
          },
          "metadata": {
            "needs_background": "light"
          }
        }
      ]
    },
    {
      "cell_type": "markdown",
      "metadata": {
        "id": "uHs_hAbLhLLK"
      },
      "source": [
        "--> We observe some outliers again. There is neglible difference in the incomes of graduates and non-graduates but there are few graduates who have very high incomes, which is the reason for the presence of outliers"
      ]
    },
    {
      "cell_type": "markdown",
      "metadata": {
        "id": "FdspJTK8IKay"
      },
      "source": [
        "# Handling missing values ⛳⛳"
      ]
    },
    {
      "cell_type": "code",
      "metadata": {
        "colab": {
          "base_uri": "https://localhost:8080/"
        },
        "id": "mN06ATglAIPj",
        "outputId": "f3f63773-1f4a-4c5a-90dd-87718d9a6948"
      },
      "source": [
        "df.isnull().sum()"
      ],
      "execution_count": null,
      "outputs": [
        {
          "output_type": "execute_result",
          "data": {
            "text/plain": [
              "Gender               13\n",
              "Married               3\n",
              "Dependents           15\n",
              "Education             0\n",
              "Self_Employed        32\n",
              "ApplicantIncome       0\n",
              "CoapplicantIncome     0\n",
              "LoanAmount           22\n",
              "Loan_Amount_Term     14\n",
              "Credit_History       50\n",
              "Property_Area         0\n",
              "Loan_Status           0\n",
              "dtype: int64"
            ]
          },
          "metadata": {},
          "execution_count": 1040
        }
      ]
    },
    {
      "cell_type": "markdown",
      "metadata": {
        "id": "U1lM10BOBKBE"
      },
      "source": [
        "Therefore, we have the following number of missing values in each column(Gender, Married,...)\n"
      ]
    },
    {
      "cell_type": "markdown",
      "metadata": {
        "id": "e4RWvrJJXUml"
      },
      "source": [
        "Now we will have to separate the categorical and numerical features so we can calculate and fill the missing values respectively."
      ]
    },
    {
      "cell_type": "code",
      "metadata": {
        "colab": {
          "base_uri": "https://localhost:8080/"
        },
        "id": "gLkv9cywXLd8",
        "outputId": "1dfa1e35-ea68-42b4-c8db-585c8270cb20"
      },
      "source": [
        "numeric_data = df.select_dtypes(include=[np.number])\n",
        "categorical_data = df.select_dtypes(exclude=[np.number])\n",
        "\n",
        "categorical_data.isnull().sum().any()"
      ],
      "execution_count": null,
      "outputs": [
        {
          "output_type": "execute_result",
          "data": {
            "text/plain": [
              "True"
            ]
          },
          "metadata": {},
          "execution_count": 1041
        }
      ]
    },
    {
      "cell_type": "code",
      "metadata": {
        "colab": {
          "base_uri": "https://localhost:8080/",
          "height": 206
        },
        "id": "XVfCysR5asyx",
        "outputId": "f904ca98-d14a-46d2-e002-3c122d271b32"
      },
      "source": [
        "categorical_data.head()"
      ],
      "execution_count": null,
      "outputs": [
        {
          "output_type": "execute_result",
          "data": {
            "text/html": [
              "<div>\n",
              "<style scoped>\n",
              "    .dataframe tbody tr th:only-of-type {\n",
              "        vertical-align: middle;\n",
              "    }\n",
              "\n",
              "    .dataframe tbody tr th {\n",
              "        vertical-align: top;\n",
              "    }\n",
              "\n",
              "    .dataframe thead th {\n",
              "        text-align: right;\n",
              "    }\n",
              "</style>\n",
              "<table border=\"1\" class=\"dataframe\">\n",
              "  <thead>\n",
              "    <tr style=\"text-align: right;\">\n",
              "      <th></th>\n",
              "      <th>Gender</th>\n",
              "      <th>Married</th>\n",
              "      <th>Dependents</th>\n",
              "      <th>Education</th>\n",
              "      <th>Self_Employed</th>\n",
              "      <th>Credit_History</th>\n",
              "      <th>Property_Area</th>\n",
              "      <th>Loan_Status</th>\n",
              "    </tr>\n",
              "  </thead>\n",
              "  <tbody>\n",
              "    <tr>\n",
              "      <th>0</th>\n",
              "      <td>Male</td>\n",
              "      <td>No</td>\n",
              "      <td>0</td>\n",
              "      <td>Graduate</td>\n",
              "      <td>No</td>\n",
              "      <td>1</td>\n",
              "      <td>Urban</td>\n",
              "      <td>Y</td>\n",
              "    </tr>\n",
              "    <tr>\n",
              "      <th>1</th>\n",
              "      <td>Male</td>\n",
              "      <td>Yes</td>\n",
              "      <td>1</td>\n",
              "      <td>Graduate</td>\n",
              "      <td>No</td>\n",
              "      <td>1</td>\n",
              "      <td>Rural</td>\n",
              "      <td>N</td>\n",
              "    </tr>\n",
              "    <tr>\n",
              "      <th>2</th>\n",
              "      <td>Male</td>\n",
              "      <td>Yes</td>\n",
              "      <td>0</td>\n",
              "      <td>Graduate</td>\n",
              "      <td>Yes</td>\n",
              "      <td>1</td>\n",
              "      <td>Urban</td>\n",
              "      <td>Y</td>\n",
              "    </tr>\n",
              "    <tr>\n",
              "      <th>3</th>\n",
              "      <td>Male</td>\n",
              "      <td>Yes</td>\n",
              "      <td>0</td>\n",
              "      <td>Not Graduate</td>\n",
              "      <td>No</td>\n",
              "      <td>1</td>\n",
              "      <td>Urban</td>\n",
              "      <td>Y</td>\n",
              "    </tr>\n",
              "    <tr>\n",
              "      <th>4</th>\n",
              "      <td>Male</td>\n",
              "      <td>No</td>\n",
              "      <td>0</td>\n",
              "      <td>Graduate</td>\n",
              "      <td>No</td>\n",
              "      <td>1</td>\n",
              "      <td>Urban</td>\n",
              "      <td>Y</td>\n",
              "    </tr>\n",
              "  </tbody>\n",
              "</table>\n",
              "</div>"
            ],
            "text/plain": [
              "  Gender Married Dependents  ... Credit_History Property_Area Loan_Status\n",
              "0   Male      No          0  ...              1         Urban           Y\n",
              "1   Male     Yes          1  ...              1         Rural           N\n",
              "2   Male     Yes          0  ...              1         Urban           Y\n",
              "3   Male     Yes          0  ...              1         Urban           Y\n",
              "4   Male      No          0  ...              1         Urban           Y\n",
              "\n",
              "[5 rows x 8 columns]"
            ]
          },
          "metadata": {},
          "execution_count": 1042
        }
      ]
    },
    {
      "cell_type": "code",
      "metadata": {
        "colab": {
          "base_uri": "https://localhost:8080/"
        },
        "id": "pxSSxIvBX1Se",
        "outputId": "0e976a4f-35b2-4413-f77e-283f9f428cf3"
      },
      "source": [
        "#For categorical data\n",
        "# filling every column with its own most frequent value you can use\n",
        "\n",
        "categorical_data = categorical_data.apply(lambda x:x.fillna(x.value_counts().index[0]))\n",
        "categorical_data.isnull().sum().any() # no more missing data \n"
      ],
      "execution_count": null,
      "outputs": [
        {
          "output_type": "execute_result",
          "data": {
            "text/plain": [
              "False"
            ]
          },
          "metadata": {},
          "execution_count": 1043
        }
      ]
    },
    {
      "cell_type": "code",
      "metadata": {
        "colab": {
          "base_uri": "https://localhost:8080/",
          "height": 206
        },
        "id": "WNQs_NNUaDUI",
        "outputId": "646ed690-ec81-475b-fb9e-8f4c7c2bb9dc"
      },
      "source": [
        "numeric_data.head()"
      ],
      "execution_count": null,
      "outputs": [
        {
          "output_type": "execute_result",
          "data": {
            "text/html": [
              "<div>\n",
              "<style scoped>\n",
              "    .dataframe tbody tr th:only-of-type {\n",
              "        vertical-align: middle;\n",
              "    }\n",
              "\n",
              "    .dataframe tbody tr th {\n",
              "        vertical-align: top;\n",
              "    }\n",
              "\n",
              "    .dataframe thead th {\n",
              "        text-align: right;\n",
              "    }\n",
              "</style>\n",
              "<table border=\"1\" class=\"dataframe\">\n",
              "  <thead>\n",
              "    <tr style=\"text-align: right;\">\n",
              "      <th></th>\n",
              "      <th>ApplicantIncome</th>\n",
              "      <th>CoapplicantIncome</th>\n",
              "      <th>LoanAmount</th>\n",
              "      <th>Loan_Amount_Term</th>\n",
              "    </tr>\n",
              "  </thead>\n",
              "  <tbody>\n",
              "    <tr>\n",
              "      <th>0</th>\n",
              "      <td>5849</td>\n",
              "      <td>0.0</td>\n",
              "      <td>NaN</td>\n",
              "      <td>360.0</td>\n",
              "    </tr>\n",
              "    <tr>\n",
              "      <th>1</th>\n",
              "      <td>4583</td>\n",
              "      <td>1508.0</td>\n",
              "      <td>128.0</td>\n",
              "      <td>360.0</td>\n",
              "    </tr>\n",
              "    <tr>\n",
              "      <th>2</th>\n",
              "      <td>3000</td>\n",
              "      <td>0.0</td>\n",
              "      <td>66.0</td>\n",
              "      <td>360.0</td>\n",
              "    </tr>\n",
              "    <tr>\n",
              "      <th>3</th>\n",
              "      <td>2583</td>\n",
              "      <td>2358.0</td>\n",
              "      <td>120.0</td>\n",
              "      <td>360.0</td>\n",
              "    </tr>\n",
              "    <tr>\n",
              "      <th>4</th>\n",
              "      <td>6000</td>\n",
              "      <td>0.0</td>\n",
              "      <td>141.0</td>\n",
              "      <td>360.0</td>\n",
              "    </tr>\n",
              "  </tbody>\n",
              "</table>\n",
              "</div>"
            ],
            "text/plain": [
              "   ApplicantIncome  CoapplicantIncome  LoanAmount  Loan_Amount_Term\n",
              "0             5849                0.0         NaN             360.0\n",
              "1             4583             1508.0       128.0             360.0\n",
              "2             3000                0.0        66.0             360.0\n",
              "3             2583             2358.0       120.0             360.0\n",
              "4             6000                0.0       141.0             360.0"
            ]
          },
          "metadata": {},
          "execution_count": 1044
        }
      ]
    },
    {
      "cell_type": "code",
      "metadata": {
        "colab": {
          "base_uri": "https://localhost:8080/"
        },
        "id": "bUQ0G-XtYv91",
        "outputId": "5078e698-16ea-4af6-8a96-0a945646cf87"
      },
      "source": [
        "# For continous data\n",
        "# filling every missing value with their previous value in the same column\n",
        "\n",
        "numeric_data.fillna(numeric_data.mean(), inplace=True)\n",
        "numeric_data.isnull().sum().any() # no more missing data "
      ],
      "execution_count": null,
      "outputs": [
        {
          "output_type": "execute_result",
          "data": {
            "text/plain": [
              "False"
            ]
          },
          "metadata": {},
          "execution_count": 1045
        }
      ]
    },
    {
      "cell_type": "markdown",
      "metadata": {
        "id": "AdzSsZz1glLh"
      },
      "source": [
        "# Data transformation 💭💭"
      ]
    },
    {
      "cell_type": "code",
      "metadata": {
        "colab": {
          "base_uri": "https://localhost:8080/",
          "height": 206
        },
        "id": "D3oyPz5ta0wx",
        "outputId": "92539247-ddbe-4af1-c558-a89067dcfc8f"
      },
      "source": [
        "le = LabelEncoder()\n",
        "categorical_data.head()"
      ],
      "execution_count": null,
      "outputs": [
        {
          "output_type": "execute_result",
          "data": {
            "text/html": [
              "<div>\n",
              "<style scoped>\n",
              "    .dataframe tbody tr th:only-of-type {\n",
              "        vertical-align: middle;\n",
              "    }\n",
              "\n",
              "    .dataframe tbody tr th {\n",
              "        vertical-align: top;\n",
              "    }\n",
              "\n",
              "    .dataframe thead th {\n",
              "        text-align: right;\n",
              "    }\n",
              "</style>\n",
              "<table border=\"1\" class=\"dataframe\">\n",
              "  <thead>\n",
              "    <tr style=\"text-align: right;\">\n",
              "      <th></th>\n",
              "      <th>Gender</th>\n",
              "      <th>Married</th>\n",
              "      <th>Dependents</th>\n",
              "      <th>Education</th>\n",
              "      <th>Self_Employed</th>\n",
              "      <th>Credit_History</th>\n",
              "      <th>Property_Area</th>\n",
              "      <th>Loan_Status</th>\n",
              "    </tr>\n",
              "  </thead>\n",
              "  <tbody>\n",
              "    <tr>\n",
              "      <th>0</th>\n",
              "      <td>Male</td>\n",
              "      <td>No</td>\n",
              "      <td>0</td>\n",
              "      <td>Graduate</td>\n",
              "      <td>No</td>\n",
              "      <td>1.0</td>\n",
              "      <td>Urban</td>\n",
              "      <td>Y</td>\n",
              "    </tr>\n",
              "    <tr>\n",
              "      <th>1</th>\n",
              "      <td>Male</td>\n",
              "      <td>Yes</td>\n",
              "      <td>1</td>\n",
              "      <td>Graduate</td>\n",
              "      <td>No</td>\n",
              "      <td>1.0</td>\n",
              "      <td>Rural</td>\n",
              "      <td>N</td>\n",
              "    </tr>\n",
              "    <tr>\n",
              "      <th>2</th>\n",
              "      <td>Male</td>\n",
              "      <td>Yes</td>\n",
              "      <td>0</td>\n",
              "      <td>Graduate</td>\n",
              "      <td>Yes</td>\n",
              "      <td>1.0</td>\n",
              "      <td>Urban</td>\n",
              "      <td>Y</td>\n",
              "    </tr>\n",
              "    <tr>\n",
              "      <th>3</th>\n",
              "      <td>Male</td>\n",
              "      <td>Yes</td>\n",
              "      <td>0</td>\n",
              "      <td>Not Graduate</td>\n",
              "      <td>No</td>\n",
              "      <td>1.0</td>\n",
              "      <td>Urban</td>\n",
              "      <td>Y</td>\n",
              "    </tr>\n",
              "    <tr>\n",
              "      <th>4</th>\n",
              "      <td>Male</td>\n",
              "      <td>No</td>\n",
              "      <td>0</td>\n",
              "      <td>Graduate</td>\n",
              "      <td>No</td>\n",
              "      <td>1.0</td>\n",
              "      <td>Urban</td>\n",
              "      <td>Y</td>\n",
              "    </tr>\n",
              "  </tbody>\n",
              "</table>\n",
              "</div>"
            ],
            "text/plain": [
              "  Gender Married Dependents  ... Credit_History Property_Area  Loan_Status\n",
              "0   Male      No          0  ...            1.0         Urban            Y\n",
              "1   Male     Yes          1  ...            1.0         Rural            N\n",
              "2   Male     Yes          0  ...            1.0         Urban            Y\n",
              "3   Male     Yes          0  ...            1.0         Urban            Y\n",
              "4   Male      No          0  ...            1.0         Urban            Y\n",
              "\n",
              "[5 rows x 8 columns]"
            ]
          },
          "metadata": {},
          "execution_count": 1046
        }
      ]
    },
    {
      "cell_type": "code",
      "metadata": {
        "id": "6YrUg1o1g5LR"
      },
      "source": [
        "#transforming the target column\n",
        "\n",
        "target_values = {'Y': 1 , 'N' : 0}\n",
        "\n",
        "target = categorical_data['Loan_Status']\n",
        "categorical_data.drop('Loan_Status', axis=1, inplace=True)\n",
        "\n",
        "target = target.map(target_values)"
      ],
      "execution_count": null,
      "outputs": []
    },
    {
      "cell_type": "code",
      "metadata": {
        "id": "7gwcKcIhhKhM"
      },
      "source": [
        "#transforming other columns\n",
        "\n",
        "for i in categorical_data:\n",
        "    categorical_data[i] = le.fit_transform(categorical_data[i])"
      ],
      "execution_count": null,
      "outputs": []
    },
    {
      "cell_type": "code",
      "metadata": {
        "colab": {
          "base_uri": "https://localhost:8080/",
          "height": 206
        },
        "id": "rivZdPLThPC3",
        "outputId": "71c6b70b-3043-4e23-9af9-d0b075a0f4b9"
      },
      "source": [
        "categorical_data.head()"
      ],
      "execution_count": null,
      "outputs": [
        {
          "output_type": "execute_result",
          "data": {
            "text/html": [
              "<div>\n",
              "<style scoped>\n",
              "    .dataframe tbody tr th:only-of-type {\n",
              "        vertical-align: middle;\n",
              "    }\n",
              "\n",
              "    .dataframe tbody tr th {\n",
              "        vertical-align: top;\n",
              "    }\n",
              "\n",
              "    .dataframe thead th {\n",
              "        text-align: right;\n",
              "    }\n",
              "</style>\n",
              "<table border=\"1\" class=\"dataframe\">\n",
              "  <thead>\n",
              "    <tr style=\"text-align: right;\">\n",
              "      <th></th>\n",
              "      <th>Gender</th>\n",
              "      <th>Married</th>\n",
              "      <th>Dependents</th>\n",
              "      <th>Education</th>\n",
              "      <th>Self_Employed</th>\n",
              "      <th>Credit_History</th>\n",
              "      <th>Property_Area</th>\n",
              "    </tr>\n",
              "  </thead>\n",
              "  <tbody>\n",
              "    <tr>\n",
              "      <th>0</th>\n",
              "      <td>1</td>\n",
              "      <td>0</td>\n",
              "      <td>0</td>\n",
              "      <td>0</td>\n",
              "      <td>0</td>\n",
              "      <td>1</td>\n",
              "      <td>2</td>\n",
              "    </tr>\n",
              "    <tr>\n",
              "      <th>1</th>\n",
              "      <td>1</td>\n",
              "      <td>1</td>\n",
              "      <td>1</td>\n",
              "      <td>0</td>\n",
              "      <td>0</td>\n",
              "      <td>1</td>\n",
              "      <td>0</td>\n",
              "    </tr>\n",
              "    <tr>\n",
              "      <th>2</th>\n",
              "      <td>1</td>\n",
              "      <td>1</td>\n",
              "      <td>0</td>\n",
              "      <td>0</td>\n",
              "      <td>1</td>\n",
              "      <td>1</td>\n",
              "      <td>2</td>\n",
              "    </tr>\n",
              "    <tr>\n",
              "      <th>3</th>\n",
              "      <td>1</td>\n",
              "      <td>1</td>\n",
              "      <td>0</td>\n",
              "      <td>1</td>\n",
              "      <td>0</td>\n",
              "      <td>1</td>\n",
              "      <td>2</td>\n",
              "    </tr>\n",
              "    <tr>\n",
              "      <th>4</th>\n",
              "      <td>1</td>\n",
              "      <td>0</td>\n",
              "      <td>0</td>\n",
              "      <td>0</td>\n",
              "      <td>0</td>\n",
              "      <td>1</td>\n",
              "      <td>2</td>\n",
              "    </tr>\n",
              "  </tbody>\n",
              "</table>\n",
              "</div>"
            ],
            "text/plain": [
              "   Gender  Married  Dependents  ...  Self_Employed  Credit_History  Property_Area\n",
              "0       1        0           0  ...              0               1              2\n",
              "1       1        1           1  ...              0               1              0\n",
              "2       1        1           0  ...              1               1              2\n",
              "3       1        1           0  ...              0               1              2\n",
              "4       1        0           0  ...              0               1              2\n",
              "\n",
              "[5 rows x 7 columns]"
            ]
          },
          "metadata": {},
          "execution_count": 1049
        }
      ]
    },
    {
      "cell_type": "code",
      "metadata": {
        "colab": {
          "base_uri": "https://localhost:8080/",
          "height": 226
        },
        "id": "-HcPB_H4hWUI",
        "outputId": "844c268e-c032-48fb-e791-19a0b6b07c61"
      },
      "source": [
        "#Combining these two dataframes and the target field\n",
        "\n",
        "df = pd.concat([categorical_data, numeric_data, target], axis=1)\n",
        "df.head()"
      ],
      "execution_count": null,
      "outputs": [
        {
          "output_type": "execute_result",
          "data": {
            "text/html": [
              "<div>\n",
              "<style scoped>\n",
              "    .dataframe tbody tr th:only-of-type {\n",
              "        vertical-align: middle;\n",
              "    }\n",
              "\n",
              "    .dataframe tbody tr th {\n",
              "        vertical-align: top;\n",
              "    }\n",
              "\n",
              "    .dataframe thead th {\n",
              "        text-align: right;\n",
              "    }\n",
              "</style>\n",
              "<table border=\"1\" class=\"dataframe\">\n",
              "  <thead>\n",
              "    <tr style=\"text-align: right;\">\n",
              "      <th></th>\n",
              "      <th>Gender</th>\n",
              "      <th>Married</th>\n",
              "      <th>Dependents</th>\n",
              "      <th>Education</th>\n",
              "      <th>Self_Employed</th>\n",
              "      <th>Credit_History</th>\n",
              "      <th>Property_Area</th>\n",
              "      <th>ApplicantIncome</th>\n",
              "      <th>CoapplicantIncome</th>\n",
              "      <th>LoanAmount</th>\n",
              "      <th>Loan_Amount_Term</th>\n",
              "      <th>Loan_Status</th>\n",
              "    </tr>\n",
              "  </thead>\n",
              "  <tbody>\n",
              "    <tr>\n",
              "      <th>0</th>\n",
              "      <td>1</td>\n",
              "      <td>0</td>\n",
              "      <td>0</td>\n",
              "      <td>0</td>\n",
              "      <td>0</td>\n",
              "      <td>1</td>\n",
              "      <td>2</td>\n",
              "      <td>5849</td>\n",
              "      <td>0.0</td>\n",
              "      <td>146.412162</td>\n",
              "      <td>360.0</td>\n",
              "      <td>1</td>\n",
              "    </tr>\n",
              "    <tr>\n",
              "      <th>1</th>\n",
              "      <td>1</td>\n",
              "      <td>1</td>\n",
              "      <td>1</td>\n",
              "      <td>0</td>\n",
              "      <td>0</td>\n",
              "      <td>1</td>\n",
              "      <td>0</td>\n",
              "      <td>4583</td>\n",
              "      <td>1508.0</td>\n",
              "      <td>128.000000</td>\n",
              "      <td>360.0</td>\n",
              "      <td>0</td>\n",
              "    </tr>\n",
              "    <tr>\n",
              "      <th>2</th>\n",
              "      <td>1</td>\n",
              "      <td>1</td>\n",
              "      <td>0</td>\n",
              "      <td>0</td>\n",
              "      <td>1</td>\n",
              "      <td>1</td>\n",
              "      <td>2</td>\n",
              "      <td>3000</td>\n",
              "      <td>0.0</td>\n",
              "      <td>66.000000</td>\n",
              "      <td>360.0</td>\n",
              "      <td>1</td>\n",
              "    </tr>\n",
              "    <tr>\n",
              "      <th>3</th>\n",
              "      <td>1</td>\n",
              "      <td>1</td>\n",
              "      <td>0</td>\n",
              "      <td>1</td>\n",
              "      <td>0</td>\n",
              "      <td>1</td>\n",
              "      <td>2</td>\n",
              "      <td>2583</td>\n",
              "      <td>2358.0</td>\n",
              "      <td>120.000000</td>\n",
              "      <td>360.0</td>\n",
              "      <td>1</td>\n",
              "    </tr>\n",
              "    <tr>\n",
              "      <th>4</th>\n",
              "      <td>1</td>\n",
              "      <td>0</td>\n",
              "      <td>0</td>\n",
              "      <td>0</td>\n",
              "      <td>0</td>\n",
              "      <td>1</td>\n",
              "      <td>2</td>\n",
              "      <td>6000</td>\n",
              "      <td>0.0</td>\n",
              "      <td>141.000000</td>\n",
              "      <td>360.0</td>\n",
              "      <td>1</td>\n",
              "    </tr>\n",
              "  </tbody>\n",
              "</table>\n",
              "</div>"
            ],
            "text/plain": [
              "   Gender  Married  Dependents  ...  LoanAmount  Loan_Amount_Term  Loan_Status\n",
              "0       1        0           0  ...  146.412162             360.0            1\n",
              "1       1        1           1  ...  128.000000             360.0            0\n",
              "2       1        1           0  ...   66.000000             360.0            1\n",
              "3       1        1           0  ...  120.000000             360.0            1\n",
              "4       1        0           0  ...  141.000000             360.0            1\n",
              "\n",
              "[5 rows x 12 columns]"
            ]
          },
          "metadata": {},
          "execution_count": 1050
        }
      ]
    },
    {
      "cell_type": "markdown",
      "metadata": {
        "id": "bIbEnxxAiJ2g"
      },
      "source": [
        "\n",
        "\n",
        "---\n",
        "\n",
        "\n",
        "\n",
        "---\n",
        "\n",
        "# TRAINING-TESTING AND MODELLING ⚡⚡"
      ]
    },
    {
      "cell_type": "code",
      "metadata": {
        "id": "t7umD_KPhvsU"
      },
      "source": [
        "# Specify input and output attributes\n",
        "X = pd.concat([categorical_data, numeric_data], axis=1)\n",
        "y = target "
      ],
      "execution_count": null,
      "outputs": []
    },
    {
      "cell_type": "code",
      "metadata": {
        "colab": {
          "base_uri": "https://localhost:8080/"
        },
        "id": "VgVhW4mQ97Fs",
        "outputId": "69979640-5242-4036-8ec9-abd7f504cd82"
      },
      "source": [
        "from sklearn.model_selection import StratifiedShuffleSplit\n",
        "\n",
        "sss = StratifiedShuffleSplit(n_splits=1, test_size=0.21, random_state=10)\n",
        "\n",
        "for train, test in sss.split(X, y):\n",
        "    X_train, X_test = X.iloc[train], X.iloc[test]\n",
        "    y_train, y_test = y.iloc[train], y.iloc[test]\n",
        "    \n",
        "print('X_train shape', X_train.shape)\n",
        "print('y_train shape', y_train.shape)\n",
        "print('X_test shape', X_test.shape)\n",
        "print('y_test shape', y_test.shape)\n",
        "\n",
        "# almost same ratio\n",
        "print('\\nratio of target in y_train :',y_train.value_counts().values/ len(y_train))\n",
        "print('ratio of target in y_test :',y_test.value_counts().values/ len(y_test))\n",
        "print('ratio of target in original_data :',df['Loan_Status'].value_counts().values/ len(df))"
      ],
      "execution_count": null,
      "outputs": [
        {
          "output_type": "stream",
          "name": "stdout",
          "text": [
            "X_train shape (485, 11)\n",
            "y_train shape (485,)\n",
            "X_test shape (129, 11)\n",
            "y_test shape (129,)\n",
            "\n",
            "ratio of target in y_train : [0.68659794 0.31340206]\n",
            "ratio of target in y_test : [0.68992248 0.31007752]\n",
            "ratio of target in original_data : [0.68729642 0.31270358]\n"
          ]
        }
      ]
    },
    {
      "cell_type": "code",
      "metadata": {
        "id": "aT6FU7SPU4-R"
      },
      "source": [],
      "execution_count": null,
      "outputs": []
    },
    {
      "cell_type": "markdown",
      "metadata": {
        "id": "BetFBgJcUKWu"
      },
      "source": [
        "# Decision Tree, Naive-Bayes, K-Neighbors Classifier"
      ]
    },
    {
      "cell_type": "code",
      "source": [
        "from sklearn.neighbors import KNeighborsClassifier\n",
        "from sklearn.tree import DecisionTreeClassifier\n",
        "from sklearn.naive_bayes import GaussianNB\n"
      ],
      "metadata": {
        "id": "fBjw1LXG8FoD"
      },
      "execution_count": null,
      "outputs": []
    },
    {
      "cell_type": "code",
      "metadata": {
        "id": "DI7Jp0rFRaZD"
      },
      "source": [
        "models = {\n",
        "    'DecisionTreeClassifier' : DecisionTreeClassifier(max_depth = 2, random_state = 10),\n",
        "    'KNeighborsClassifier': KNeighborsClassifier(),\n",
        "    'NaiveBayesClassifier': GaussianNB()\n",
        "}"
      ],
      "execution_count": null,
      "outputs": []
    },
    {
      "cell_type": "code",
      "metadata": {
        "id": "PA4LyADBXfjx"
      },
      "source": [
        "# Building the Functions\n",
        "\n",
        "from sklearn.metrics import precision_score, recall_score, f1_score, log_loss, accuracy_score\n",
        "\n",
        "def loss(y_true, y_pred, retu=False):\n",
        "    pre = precision_score(y_true, y_pred)\n",
        "    rec = recall_score(y_true, y_pred)\n",
        "    f1 = f1_score(y_true, y_pred)\n",
        "    loss = log_loss(y_true, y_pred)\n",
        "    acc = accuracy_score(y_true, y_pred)\n",
        "    \n",
        "    if retu:\n",
        "        return pre, rec, f1, loss, acc\n",
        "    else:\n",
        "        print('  pre: %.4f\\n  rec: %.4f\\n  f1: %.4f\\n  loss: %.4f\\n  acc: %.4f' % (pre, rec, f1, loss, acc))"
      ],
      "execution_count": null,
      "outputs": []
    },
    {
      "cell_type": "code",
      "metadata": {
        "id": "SXLvlTIbXk9o"
      },
      "source": [
        "# Evaluating the model\n",
        "\n",
        "def train_eval(models, X, y):\n",
        "    for name, model in models.items():\n",
        "        print(name, ':')\n",
        "        model.fit(X, y)\n",
        "        loss(y, model.predict(X))\n",
        "        print('#'*40)"
      ],
      "execution_count": null,
      "outputs": []
    },
    {
      "cell_type": "code",
      "metadata": {
        "colab": {
          "base_uri": "https://localhost:8080/"
        },
        "id": "DlMPrBWSSXgQ",
        "outputId": "3f237013-2920-4b94-d719-05c207f30600"
      },
      "source": [
        "train_eval(models, X_train, y_train)"
      ],
      "execution_count": null,
      "outputs": [
        {
          "output_type": "stream",
          "name": "stdout",
          "text": [
            "DecisionTreeClassifier :\n",
            "  pre: 0.7981\n",
            "  rec: 0.9850\n",
            "  f1: 0.8817\n",
            "  loss: 6.2670\n",
            "  acc: 0.8186\n",
            "########################################\n",
            "KNeighborsClassifier :\n",
            "  pre: 0.7488\n",
            "  rec: 0.9129\n",
            "  f1: 0.8227\n",
            "  loss: 9.3292\n",
            "  acc: 0.7299\n",
            "########################################\n",
            "NaiveBayesClassifier :\n",
            "  pre: 0.7975\n",
            "  rec: 0.9700\n",
            "  f1: 0.8753\n",
            "  loss: 6.5518\n",
            "  acc: 0.8103\n",
            "########################################\n"
          ]
        }
      ]
    },
    {
      "cell_type": "code",
      "metadata": {
        "id": "xR2kcNRl3QXf"
      },
      "source": [],
      "execution_count": null,
      "outputs": []
    },
    {
      "cell_type": "code",
      "source": [
        "# train_eval_cross\n",
        "# in the next cell i will be explaining this function\n",
        "\n",
        "from sklearn.model_selection import StratifiedKFold\n",
        "skf = StratifiedKFold(n_splits=2, random_state=42, shuffle=True)\n",
        "\n",
        "def train_eval_cross(models, X, y, folds):\n",
        "    # we will change X & y to dataframe because we will use iloc (iloc don't work on numpy array)\n",
        "    X = pd.DataFrame(X) \n",
        "    y = pd.DataFrame(y)\n",
        "    idx = [' pre', ' rec', ' f1', ' loss', ' acc']\n",
        "    for name, model in models.items():\n",
        "        ls = []\n",
        "        print(name,':')\n",
        "\n",
        "        for train, test in folds.split(X, y):\n",
        "            model.fit(X.iloc[train], y.iloc[train]) \n",
        "            y_pred = model.predict(X.iloc[test]) \n",
        "            ls.append(loss(y.iloc[test], y_pred, retu=True))\n",
        "        print(pd.DataFrame(np.array(ls).mean(axis=0), index=idx)[0])  #[0] because we don't want to show the name of the column\n",
        "        print('-'*30)\n",
        "        \n",
        "train_eval_cross(models, X_train, y_train, skf)"
      ],
      "metadata": {
        "colab": {
          "base_uri": "https://localhost:8080/"
        },
        "id": "cmK5xNpG9MCH",
        "outputId": "6b0780ad-a312-4cd6-8418-730e68e93a73"
      },
      "execution_count": null,
      "outputs": [
        {
          "output_type": "stream",
          "name": "stdout",
          "text": [
            "DecisionTreeClassifier :\n",
            " pre     0.787867\n",
            " rec     0.970024\n",
            " f1      0.869399\n",
            " loss    6.907488\n",
            " acc     0.800012\n",
            "Name: 0, dtype: float64\n",
            "------------------------------\n",
            "KNeighborsClassifier :\n",
            " pre      0.683745\n",
            " rec      0.804812\n",
            " f1       0.739346\n",
            " loss    13.458968\n",
            " acc      0.610329\n",
            "Name: 0, dtype: float64\n",
            "------------------------------\n",
            "NaiveBayesClassifier :\n",
            " pre     0.794791\n",
            " rec     0.931048\n",
            " f1      0.857218\n",
            " loss    7.333587\n",
            " acc     0.787675\n",
            "Name: 0, dtype: float64\n",
            "------------------------------\n"
          ]
        }
      ]
    },
    {
      "cell_type": "markdown",
      "source": [],
      "metadata": {
        "id": "PqS925sF-lyl"
      }
    },
    {
      "cell_type": "markdown",
      "source": [],
      "metadata": {
        "id": "iBDH6-Dd-l98"
      }
    },
    {
      "cell_type": "markdown",
      "source": [],
      "metadata": {
        "id": "AnkbTSO0-mSd"
      }
    },
    {
      "cell_type": "code",
      "source": [
        "data_corr = pd.concat([X_train, y_train], axis=1)\n",
        "corr = data_corr.corr()\n",
        "plt.figure(figsize=(10,7))\n",
        "sns.heatmap(corr, annot=True);"
      ],
      "metadata": {
        "colab": {
          "base_uri": "https://localhost:8080/",
          "height": 519
        },
        "id": "kGhkBFWt-trZ",
        "outputId": "197f08ce-cd13-4322-d663-d52a495535b0"
      },
      "execution_count": null,
      "outputs": [
        {
          "output_type": "display_data",
          "data": {
            "image/png": "[encoded data removed]",
            "text/plain": [
              "<Figure size 720x504 with 2 Axes>"
            ]
          },
          "metadata": {
            "needs_background": "light"
          }
        }
      ]
    },
    {
      "cell_type": "code",
      "source": [
        "X_train.head()"
      ],
      "metadata": {
        "colab": {
          "base_uri": "https://localhost:8080/",
          "height": 226
        },
        "id": "-GqV8jX3-t06",
        "outputId": "8b331900-7fc5-4d07-b9df-8b815718ed5a"
      },
      "execution_count": null,
      "outputs": [
        {
          "output_type": "execute_result",
          "data": {
            "text/html": [
              "<div>\n",
              "<style scoped>\n",
              "    .dataframe tbody tr th:only-of-type {\n",
              "        vertical-align: middle;\n",
              "    }\n",
              "\n",
              "    .dataframe tbody tr th {\n",
              "        vertical-align: top;\n",
              "    }\n",
              "\n",
              "    .dataframe thead th {\n",
              "        text-align: right;\n",
              "    }\n",
              "</style>\n",
              "<table border=\"1\" class=\"dataframe\">\n",
              "  <thead>\n",
              "    <tr style=\"text-align: right;\">\n",
              "      <th></th>\n",
              "      <th>Gender</th>\n",
              "      <th>Married</th>\n",
              "      <th>Dependents</th>\n",
              "      <th>Education</th>\n",
              "      <th>Self_Employed</th>\n",
              "      <th>Credit_History</th>\n",
              "      <th>Property_Area</th>\n",
              "      <th>ApplicantIncome</th>\n",
              "      <th>CoapplicantIncome</th>\n",
              "      <th>LoanAmount</th>\n",
              "      <th>Loan_Amount_Term</th>\n",
              "    </tr>\n",
              "  </thead>\n",
              "  <tbody>\n",
              "    <tr>\n",
              "      <th>269</th>\n",
              "      <td>0</td>\n",
              "      <td>0</td>\n",
              "      <td>1</td>\n",
              "      <td>0</td>\n",
              "      <td>0</td>\n",
              "      <td>1</td>\n",
              "      <td>2</td>\n",
              "      <td>2876</td>\n",
              "      <td>1560.0</td>\n",
              "      <td>90.000000</td>\n",
              "      <td>360.0</td>\n",
              "    </tr>\n",
              "    <tr>\n",
              "      <th>116</th>\n",
              "      <td>0</td>\n",
              "      <td>1</td>\n",
              "      <td>0</td>\n",
              "      <td>0</td>\n",
              "      <td>0</td>\n",
              "      <td>1</td>\n",
              "      <td>1</td>\n",
              "      <td>3167</td>\n",
              "      <td>2283.0</td>\n",
              "      <td>154.000000</td>\n",
              "      <td>360.0</td>\n",
              "    </tr>\n",
              "    <tr>\n",
              "      <th>95</th>\n",
              "      <td>1</td>\n",
              "      <td>0</td>\n",
              "      <td>0</td>\n",
              "      <td>0</td>\n",
              "      <td>0</td>\n",
              "      <td>1</td>\n",
              "      <td>2</td>\n",
              "      <td>6782</td>\n",
              "      <td>0.0</td>\n",
              "      <td>146.412162</td>\n",
              "      <td>360.0</td>\n",
              "    </tr>\n",
              "    <tr>\n",
              "      <th>233</th>\n",
              "      <td>0</td>\n",
              "      <td>0</td>\n",
              "      <td>0</td>\n",
              "      <td>0</td>\n",
              "      <td>0</td>\n",
              "      <td>1</td>\n",
              "      <td>1</td>\n",
              "      <td>8333</td>\n",
              "      <td>0.0</td>\n",
              "      <td>280.000000</td>\n",
              "      <td>360.0</td>\n",
              "    </tr>\n",
              "    <tr>\n",
              "      <th>133</th>\n",
              "      <td>1</td>\n",
              "      <td>1</td>\n",
              "      <td>0</td>\n",
              "      <td>0</td>\n",
              "      <td>1</td>\n",
              "      <td>1</td>\n",
              "      <td>1</td>\n",
              "      <td>3459</td>\n",
              "      <td>0.0</td>\n",
              "      <td>25.000000</td>\n",
              "      <td>120.0</td>\n",
              "    </tr>\n",
              "  </tbody>\n",
              "</table>\n",
              "</div>"
            ],
            "text/plain": [
              "     Gender  Married  ...  LoanAmount  Loan_Amount_Term\n",
              "269       0        0  ...   90.000000             360.0\n",
              "116       0        1  ...  154.000000             360.0\n",
              "95        1        0  ...  146.412162             360.0\n",
              "233       0        0  ...  280.000000             360.0\n",
              "133       1        1  ...   25.000000             120.0\n",
              "\n",
              "[5 rows x 11 columns]"
            ]
          },
          "metadata": {},
          "execution_count": 1060
        }
      ]
    },
    {
      "cell_type": "code",
      "source": [
        "# I will try to make some operations on some features, here I just tried diffrent operations on diffrent features,\n",
        "# having experience in the field, and having knowledge about the data will also help\n",
        "\n",
        "X_train['new_col'] = X_train['CoapplicantIncome'] / X_train['ApplicantIncome']  \n",
        "X_train['new_col_2'] = X_train['LoanAmount'] * X_train['Loan_Amount_Term'] "
      ],
      "metadata": {
        "id": "ZfYXiVcx-uDb"
      },
      "execution_count": null,
      "outputs": []
    },
    {
      "cell_type": "code",
      "source": [
        "X_train.head()"
      ],
      "metadata": {
        "colab": {
          "base_uri": "https://localhost:8080/",
          "height": 226
        },
        "id": "LYO1fPMQhYk2",
        "outputId": "cb4046e2-c3d1-46c3-fd92-2ceb6480029b"
      },
      "execution_count": null,
      "outputs": [
        {
          "output_type": "execute_result",
          "data": {
            "text/html": [
              "<div>\n",
              "<style scoped>\n",
              "    .dataframe tbody tr th:only-of-type {\n",
              "        vertical-align: middle;\n",
              "    }\n",
              "\n",
              "    .dataframe tbody tr th {\n",
              "        vertical-align: top;\n",
              "    }\n",
              "\n",
              "    .dataframe thead th {\n",
              "        text-align: right;\n",
              "    }\n",
              "</style>\n",
              "<table border=\"1\" class=\"dataframe\">\n",
              "  <thead>\n",
              "    <tr style=\"text-align: right;\">\n",
              "      <th></th>\n",
              "      <th>Gender</th>\n",
              "      <th>Married</th>\n",
              "      <th>Dependents</th>\n",
              "      <th>Education</th>\n",
              "      <th>Self_Employed</th>\n",
              "      <th>Credit_History</th>\n",
              "      <th>Property_Area</th>\n",
              "      <th>ApplicantIncome</th>\n",
              "      <th>CoapplicantIncome</th>\n",
              "      <th>LoanAmount</th>\n",
              "      <th>Loan_Amount_Term</th>\n",
              "      <th>new_col</th>\n",
              "      <th>new_col_2</th>\n",
              "    </tr>\n",
              "  </thead>\n",
              "  <tbody>\n",
              "    <tr>\n",
              "      <th>269</th>\n",
              "      <td>0</td>\n",
              "      <td>0</td>\n",
              "      <td>1</td>\n",
              "      <td>0</td>\n",
              "      <td>0</td>\n",
              "      <td>1</td>\n",
              "      <td>2</td>\n",
              "      <td>2876</td>\n",
              "      <td>1560.0</td>\n",
              "      <td>90.000000</td>\n",
              "      <td>360.0</td>\n",
              "      <td>0.542420</td>\n",
              "      <td>32400.000000</td>\n",
              "    </tr>\n",
              "    <tr>\n",
              "      <th>116</th>\n",
              "      <td>0</td>\n",
              "      <td>1</td>\n",
              "      <td>0</td>\n",
              "      <td>0</td>\n",
              "      <td>0</td>\n",
              "      <td>1</td>\n",
              "      <td>1</td>\n",
              "      <td>3167</td>\n",
              "      <td>2283.0</td>\n",
              "      <td>154.000000</td>\n",
              "      <td>360.0</td>\n",
              "      <td>0.720871</td>\n",
              "      <td>55440.000000</td>\n",
              "    </tr>\n",
              "    <tr>\n",
              "      <th>95</th>\n",
              "      <td>1</td>\n",
              "      <td>0</td>\n",
              "      <td>0</td>\n",
              "      <td>0</td>\n",
              "      <td>0</td>\n",
              "      <td>1</td>\n",
              "      <td>2</td>\n",
              "      <td>6782</td>\n",
              "      <td>0.0</td>\n",
              "      <td>146.412162</td>\n",
              "      <td>360.0</td>\n",
              "      <td>0.000000</td>\n",
              "      <td>52708.378378</td>\n",
              "    </tr>\n",
              "    <tr>\n",
              "      <th>233</th>\n",
              "      <td>0</td>\n",
              "      <td>0</td>\n",
              "      <td>0</td>\n",
              "      <td>0</td>\n",
              "      <td>0</td>\n",
              "      <td>1</td>\n",
              "      <td>1</td>\n",
              "      <td>8333</td>\n",
              "      <td>0.0</td>\n",
              "      <td>280.000000</td>\n",
              "      <td>360.0</td>\n",
              "      <td>0.000000</td>\n",
              "      <td>100800.000000</td>\n",
              "    </tr>\n",
              "    <tr>\n",
              "      <th>133</th>\n",
              "      <td>1</td>\n",
              "      <td>1</td>\n",
              "      <td>0</td>\n",
              "      <td>0</td>\n",
              "      <td>1</td>\n",
              "      <td>1</td>\n",
              "      <td>1</td>\n",
              "      <td>3459</td>\n",
              "      <td>0.0</td>\n",
              "      <td>25.000000</td>\n",
              "      <td>120.0</td>\n",
              "      <td>0.000000</td>\n",
              "      <td>3000.000000</td>\n",
              "    </tr>\n",
              "  </tbody>\n",
              "</table>\n",
              "</div>"
            ],
            "text/plain": [
              "     Gender  Married  Dependents  ...  Loan_Amount_Term   new_col      new_col_2\n",
              "269       0        0           1  ...             360.0  0.542420   32400.000000\n",
              "116       0        1           0  ...             360.0  0.720871   55440.000000\n",
              "95        1        0           0  ...             360.0  0.000000   52708.378378\n",
              "233       0        0           0  ...             360.0  0.000000  100800.000000\n",
              "133       1        1           0  ...             120.0  0.000000    3000.000000\n",
              "\n",
              "[5 rows x 13 columns]"
            ]
          },
          "metadata": {},
          "execution_count": 1062
        }
      ]
    },
    {
      "cell_type": "code",
      "source": [
        "data_corr = pd.concat([X_train, y_train], axis=1)\n",
        "corr = data_corr.corr()\n",
        "plt.figure(figsize=(10,7))\n",
        "sns.heatmap(corr, annot=True);"
      ],
      "metadata": {
        "colab": {
          "base_uri": "https://localhost:8080/",
          "height": 519
        },
        "id": "4YpW78Cu_DDQ",
        "outputId": "4d68138f-efef-4490-94ca-e5fdad6667b1"
      },
      "execution_count": null,
      "outputs": [
        {
          "output_type": "display_data",
          "data": {
            "image/png": "[encoded data removed]",
            "text/plain": [
              "<Figure size 720x504 with 2 Axes>"
            ]
          },
          "metadata": {
            "needs_background": "light"
          }
        }
      ]
    },
    {
      "cell_type": "code",
      "source": [
        "X_train.drop(['CoapplicantIncome', 'ApplicantIncome', 'Loan_Amount_Term', 'LoanAmount'], axis=1, inplace=True)"
      ],
      "metadata": {
        "id": "JFWxuYAF_Hja"
      },
      "execution_count": null,
      "outputs": []
    },
    {
      "cell_type": "code",
      "source": [
        "train_eval_cross(models, X_train, y_train, skf)"
      ],
      "metadata": {
        "colab": {
          "base_uri": "https://localhost:8080/"
        },
        "id": "OBpYHvoB_Hr1",
        "outputId": "7171dd65-8afb-4470-f47e-38a28f64b282"
      },
      "execution_count": null,
      "outputs": [
        {
          "output_type": "stream",
          "name": "stdout",
          "text": [
            "DecisionTreeClassifier :\n",
            " pre     0.789869\n",
            " rec     0.949048\n",
            " f1      0.862005\n",
            " loss    7.191165\n",
            " acc     0.791798\n",
            "Name: 0, dtype: float64\n",
            "------------------------------\n",
            "KNeighborsClassifier :\n",
            " pre      0.684752\n",
            " rec      0.780752\n",
            " f1       0.729400\n",
            " loss    13.743525\n",
            " acc      0.602090\n",
            "Name: 0, dtype: float64\n",
            "------------------------------\n",
            "NaiveBayesClassifier :\n",
            " pre      0.689070\n",
            " rec      0.984976\n",
            " f1       0.810870\n",
            " loss    10.896175\n",
            " acc      0.684530\n",
            "Name: 0, dtype: float64\n",
            "------------------------------\n"
          ]
        }
      ]
    },
    {
      "cell_type": "code",
      "source": [
        "# first lets take a look at the value counts of every label\n",
        "\n",
        "for i in range(X_train.shape[1]):\n",
        "    print(X_train.iloc[:,i].value_counts(), end='\\n------------------------------------------------\\n')"
      ],
      "metadata": {
        "colab": {
          "base_uri": "https://localhost:8080/"
        },
        "id": "gSq6uVQG_H0y",
        "outputId": "ff08fbef-af23-4e4e-a59a-19d9355331ee"
      },
      "execution_count": null,
      "outputs": [
        {
          "output_type": "stream",
          "name": "stdout",
          "text": [
            "1    393\n",
            "0     92\n",
            "Name: Gender, dtype: int64\n",
            "------------------------------------------------\n",
            "1    315\n",
            "0    170\n",
            "Name: Married, dtype: int64\n",
            "------------------------------------------------\n",
            "0    292\n",
            "2     82\n",
            "1     72\n",
            "3     39\n",
            "Name: Dependents, dtype: int64\n",
            "------------------------------------------------\n",
            "0    385\n",
            "1    100\n",
            "Name: Education, dtype: int64\n",
            "------------------------------------------------\n",
            "0    422\n",
            "1     63\n",
            "Name: Self_Employed, dtype: int64\n",
            "------------------------------------------------\n",
            "1    415\n",
            "0     70\n",
            "Name: Credit_History, dtype: int64\n",
            "------------------------------------------------\n",
            "1    185\n",
            "2    159\n",
            "0    141\n",
            "Name: Property_Area, dtype: int64\n",
            "------------------------------------------------\n",
            "0.000000    214\n",
            "0.735294      2\n",
            "0.565659      2\n",
            "0.527858      1\n",
            "0.971978      1\n",
            "           ... \n",
            "0.231996      1\n",
            "0.824568      1\n",
            "3.129577      1\n",
            "0.575006      1\n",
            "0.542420      1\n",
            "Name: new_col, Length: 270, dtype: int64\n",
            "------------------------------------------------\n",
            "52708.378378    15\n",
            "43200.000000    14\n",
            "39600.000000    11\n",
            "46080.000000     9\n",
            "57600.000000     9\n",
            "                ..\n",
            "37200.000000     1\n",
            "59400.000000     1\n",
            "21960.000000     1\n",
            "32490.000000     1\n",
            "25920.000000     1\n",
            "Name: new_col_2, Length: 226, dtype: int64\n",
            "------------------------------------------------\n"
          ]
        }
      ]
    },
    {
      "cell_type": "code",
      "source": [
        "from scipy.stats import norm\n",
        "\n",
        "fig, ax = plt.subplots(1,2,figsize=(20,5))\n",
        "\n",
        "sns.distplot(X_train['new_col_2'], ax=ax[0], fit=norm)\n",
        "ax[0].set_title('new_col_2 before log')\n",
        "\n",
        "X_train['new_col_2'] = np.log(X_train['new_col_2'])  # logarithm of all the values\n",
        "\n",
        "sns.distplot(X_train['new_col_2'], ax=ax[1], fit=norm)\n",
        "ax[1].set_title('new_col_2 after log');"
      ],
      "metadata": {
        "colab": {
          "base_uri": "https://localhost:8080/",
          "height": 351
        },
        "id": "gASppzd__bQm",
        "outputId": "010ae8f4-bd18-4304-f225-d31abe81955b"
      },
      "execution_count": null,
      "outputs": [
        {
          "output_type": "display_data",
          "data": {
            "image/png": "[encoded data removed]",
            "text/plain": [
              "<Figure size 1440x360 with 2 Axes>"
            ]
          },
          "metadata": {
            "needs_background": "light"
          }
        }
      ]
    },
    {
      "cell_type": "code",
      "source": [
        "# now we will evaluate our models, and i will do that continuously ,so i don't need to mention that every time\n",
        "\n",
        "train_eval_cross(models, X_train, y_train, skf)\n",
        "\n",
        "# wooow our models improved really good by just doing the previous step ."
      ],
      "metadata": {
        "colab": {
          "base_uri": "https://localhost:8080/"
        },
        "id": "kSGMtxdx_gtN",
        "outputId": "351826c1-30fe-4538-a7bb-4ccd481b2e7a"
      },
      "execution_count": null,
      "outputs": [
        {
          "output_type": "stream",
          "name": "stdout",
          "text": [
            "DecisionTreeClassifier :\n",
            " pre     0.791891\n",
            " rec     0.949048\n",
            " f1      0.863176\n",
            " loss    7.120096\n",
            " acc     0.793856\n",
            "Name: 0, dtype: float64\n",
            "------------------------------\n",
            "KNeighborsClassifier :\n",
            " pre     0.746934\n",
            " rec     0.930849\n",
            " f1      0.828811\n",
            " loss    9.118243\n",
            " acc     0.736005\n",
            "Name: 0, dtype: float64\n",
            "------------------------------\n",
            "NaiveBayesClassifier :\n",
            " pre     0.795567\n",
            " rec     0.969970\n",
            " f1      0.874152\n",
            " loss    6.623211\n",
            " acc     0.808242\n",
            "Name: 0, dtype: float64\n",
            "------------------------------\n"
          ]
        }
      ]
    },
    {
      "cell_type": "code",
      "source": [
        "# new_col\n",
        "\n",
        "# most of our data is 0 , so we will try to change other values to 1\n",
        "\n",
        "print('before:')\n",
        "print(X_train['new_col'].value_counts())\n",
        "\n",
        "X_train['new_col'] = [x if x==0 else 1 for x in X_train['new_col']]\n",
        "print('-'*50)\n",
        "print('\\nafter:')\n",
        "print(X_train['new_col'].value_counts())"
      ],
      "metadata": {
        "colab": {
          "base_uri": "https://localhost:8080/"
        },
        "id": "S1oDrmoL_qaH",
        "outputId": "21982040-7a7f-4482-8b52-99900fcc832a"
      },
      "execution_count": null,
      "outputs": [
        {
          "output_type": "stream",
          "name": "stdout",
          "text": [
            "before:\n",
            "0.000000    214\n",
            "0.735294      2\n",
            "0.565659      2\n",
            "0.527858      1\n",
            "0.971978      1\n",
            "           ... \n",
            "0.231996      1\n",
            "0.824568      1\n",
            "3.129577      1\n",
            "0.575006      1\n",
            "0.542420      1\n",
            "Name: new_col, Length: 270, dtype: int64\n",
            "--------------------------------------------------\n",
            "\n",
            "after:\n",
            "1.0    271\n",
            "0.0    214\n",
            "Name: new_col, dtype: int64\n"
          ]
        }
      ]
    },
    {
      "cell_type": "code",
      "source": [
        "train_eval_cross(models, X_train, y_train, skf)\n",
        "\n",
        "# ok we are improving our models as we go "
      ],
      "metadata": {
        "colab": {
          "base_uri": "https://localhost:8080/"
        },
        "id": "Nd28ucuT_vVS",
        "outputId": "b8f16613-d11c-4f59-c223-c535e91e47ee"
      },
      "execution_count": null,
      "outputs": [
        {
          "output_type": "stream",
          "name": "stdout",
          "text": [
            "DecisionTreeClassifier :\n",
            " pre     0.788462\n",
            " rec     0.984994\n",
            " f1      0.875836\n",
            " loss    6.622926\n",
            " acc     0.808251\n",
            "Name: 0, dtype: float64\n",
            "------------------------------\n",
            "KNeighborsClassifier :\n",
            " pre     0.750422\n",
            " rec     0.930849\n",
            " f1      0.830937\n",
            " loss    8.975224\n",
            " acc     0.740146\n",
            "Name: 0, dtype: float64\n",
            "------------------------------\n",
            "NaiveBayesClassifier :\n",
            " pre     0.790366\n",
            " rec     0.984994\n",
            " f1      0.877005\n",
            " loss    6.551857\n",
            " acc     0.810308\n",
            "Name: 0, dtype: float64\n",
            "------------------------------\n"
          ]
        }
      ]
    },
    {
      "cell_type": "code",
      "source": [
        "for i in range(X_train.shape[1]):\n",
        "    print(X_train.iloc[:,i].value_counts(), end='\\n------------------------------------------------\\n')\n",
        "    \n",
        "# looks better"
      ],
      "metadata": {
        "colab": {
          "base_uri": "https://localhost:8080/"
        },
        "id": "DZI7khKDBPvk",
        "outputId": "a28cd1f8-0e30-41ee-afab-7efc94810d4a"
      },
      "execution_count": null,
      "outputs": [
        {
          "output_type": "stream",
          "name": "stdout",
          "text": [
            "1    393\n",
            "0     92\n",
            "Name: Gender, dtype: int64\n",
            "------------------------------------------------\n",
            "1    315\n",
            "0    170\n",
            "Name: Married, dtype: int64\n",
            "------------------------------------------------\n",
            "0    292\n",
            "2     82\n",
            "1     72\n",
            "3     39\n",
            "Name: Dependents, dtype: int64\n",
            "------------------------------------------------\n",
            "0    385\n",
            "1    100\n",
            "Name: Education, dtype: int64\n",
            "------------------------------------------------\n",
            "0    422\n",
            "1     63\n",
            "Name: Self_Employed, dtype: int64\n",
            "------------------------------------------------\n",
            "1    415\n",
            "0     70\n",
            "Name: Credit_History, dtype: int64\n",
            "------------------------------------------------\n",
            "1    185\n",
            "2    159\n",
            "0    141\n",
            "Name: Property_Area, dtype: int64\n",
            "------------------------------------------------\n",
            "1.0    271\n",
            "0.0    214\n",
            "Name: new_col, dtype: int64\n",
            "------------------------------------------------\n",
            "10.872530    15\n",
            "10.673596    14\n",
            "10.586584    11\n",
            "10.738134     9\n",
            "10.961278     9\n",
            "             ..\n",
            "11.576463     1\n",
            "9.469623      1\n",
            "11.141862     1\n",
            "11.638677     1\n",
            "10.511077     1\n",
            "Name: new_col_2, Length: 226, dtype: int64\n",
            "------------------------------------------------\n"
          ]
        }
      ]
    },
    {
      "cell_type": "markdown",
      "source": [
        "## OUTLIERS"
      ],
      "metadata": {
        "id": "74ZabJ_3BViO"
      }
    },
    {
      "cell_type": "code",
      "source": [
        "# we will use boxplot to detect outliers\n",
        "\n",
        "sns.boxplot(X_train['new_col_2']);\n",
        "plt.title('new_col_2 outliers', fontsize=15);\n",
        "plt.xlabel('');"
      ],
      "metadata": {
        "colab": {
          "base_uri": "https://localhost:8080/",
          "height": 283
        },
        "id": "yp6SKzSNBYsS",
        "outputId": "57e4352e-b93a-4678-9502-500ac6330a51"
      },
      "execution_count": null,
      "outputs": [
        {
          "output_type": "display_data",
          "data": {
            "image/png": "[encoded data removed]",
            "text/plain": [
              "<Figure size 432x288 with 1 Axes>"
            ]
          },
          "metadata": {
            "needs_background": "light"
          }
        }
      ]
    },
    {
      "cell_type": "code",
      "source": [
        "threshold = 1.5  # this number is hyper parameter , as much as you reduce it, as much as you remove more points\n",
        "                 # you can just try different values the deafult value is (1.5) it works good for most cases\n",
        "                 # but be careful, you don't want to try a small number because you may loss some important information from the data .\n",
        "                 \n",
        "            \n",
        "new_col_2_out = X_train['new_col_2']\n",
        "q25, q75 = np.percentile(new_col_2_out, 25), np.percentile(new_col_2_out, 75) # Q25, Q75\n",
        "print('Quartile 25: {} , Quartile 75: {}'.format(q25, q75))\n",
        "\n",
        "iqr = q75 - q25\n",
        "print('iqr: {}'.format(iqr))\n",
        "\n",
        "cut = iqr * threshold\n",
        "lower, upper = q25 - cut, q75 + cut\n",
        "print('Cut Off: {}'.format(cut))\n",
        "print('Lower: {}'.format(lower))\n",
        "print('Upper: {}'.format(upper))\n",
        "\n",
        "outliers = [x for x in new_col_2_out if x < lower or x > upper]\n",
        "print('Nubers of Outliers: {}'.format(len(outliers)))\n",
        "print('outliers:{}'.format(outliers))\n",
        "\n",
        "data_outliers = pd.concat([X_train, y_train], axis=1)\n",
        "print('\\nlen X_train before dropping the outliers', len(data_outliers))\n",
        "data_outliers = data_outliers.drop(data_outliers[(data_outliers['new_col_2'] > upper) | (data_outliers['new_col_2'] < lower)].index)\n",
        "\n",
        "print('len X_train before dropping the outliers', len(data_outliers))"
      ],
      "metadata": {
        "colab": {
          "base_uri": "https://localhost:8080/"
        },
        "id": "bFDZP2uABYzP",
        "outputId": "e3c4981d-fed0-40f7-c345-64a7a03d4c5d"
      },
      "execution_count": null,
      "outputs": [
        {
          "output_type": "stream",
          "name": "stdout",
          "text": [
            "Quartile 25: 10.439980923050696 , Quartile 75: 10.961277846683982\n",
            "iqr: 0.5212969236332867\n",
            "Cut Off: 0.7819453854499301\n",
            "Lower: 9.658035537600766\n",
            "Upper: 11.743223232133913\n",
            "Nubers of Outliers: 32\n",
            "outliers:[8.006367567650246, 11.96374627479919, 11.877568578558138, 9.137769679141348, 7.965545573129992, 9.587406005562649, 7.620705086838262, 9.469622969906265, 9.21830854162536, 9.144200569471638, 9.287301413112312, 8.881836305004146, 9.084777149000837, 9.441452092939569, 8.006367567650246, 9.549665677579801, 8.930626469173578, 12.100712129872347, 9.51044496442652, 9.441452092939569, 9.441452092939569, 9.287301413112312, 9.112948025967533, 9.483416292038601, 7.194436851100335, 12.059890135352092, 12.65075846679162, 11.889991098556695, 9.578311275656766, 11.81569317484005, 9.400630098419315, 12.254862809699606]\n",
            "\n",
            "len X_train before dropping the outliers 485\n",
            "len X_train before dropping the outliers 453\n"
          ]
        }
      ]
    },
    {
      "cell_type": "code",
      "source": [
        "X_train = data_outliers.drop('Loan_Status', axis=1)\n",
        "y_train = data_outliers['Loan_Status']"
      ],
      "metadata": {
        "id": "OCD6KvpzBY19"
      },
      "execution_count": null,
      "outputs": []
    },
    {
      "cell_type": "code",
      "source": [
        "sns.boxplot(X_train['new_col_2']);\n",
        "plt.title('new_col_2 without outliers', fontsize=15);\n",
        "plt.xlabel('');"
      ],
      "metadata": {
        "colab": {
          "base_uri": "https://localhost:8080/",
          "height": 283
        },
        "id": "2smO0RGOBY4o",
        "outputId": "be61ad90-f336-4192-c027-17850c5ff7da"
      },
      "execution_count": null,
      "outputs": [
        {
          "output_type": "display_data",
          "data": {
            "image/png": "[encoded data removed]",
            "text/plain": [
              "<Figure size 432x288 with 1 Axes>"
            ]
          },
          "metadata": {
            "needs_background": "light"
          }
        }
      ]
    },
    {
      "cell_type": "code",
      "source": [
        "train_eval_cross(models, X_train, y_train, skf)"
      ],
      "metadata": {
        "colab": {
          "base_uri": "https://localhost:8080/"
        },
        "id": "ompSoq0kBY7N",
        "outputId": "eec5eeb0-d31a-4a4d-928b-f943ffa7a2bf"
      },
      "execution_count": null,
      "outputs": [
        {
          "output_type": "stream",
          "name": "stdout",
          "text": [
            "DecisionTreeClassifier :\n",
            " pre     0.792206\n",
            " rec     0.983871\n",
            " f1      0.877696\n",
            " loss    6.480790\n",
            " acc     0.812366\n",
            "Name: 0, dtype: float64\n",
            "------------------------------\n",
            "KNeighborsClassifier :\n",
            " pre     0.741423\n",
            " rec     0.906452\n",
            " f1      0.815672\n",
            " loss    9.683108\n",
            " acc     0.719650\n",
            "Name: 0, dtype: float64\n",
            "------------------------------\n",
            "NaiveBayesClassifier :\n",
            " pre     0.792206\n",
            " rec     0.983871\n",
            " f1      0.877696\n",
            " loss    6.480790\n",
            " acc     0.812366\n",
            "Name: 0, dtype: float64\n",
            "------------------------------\n"
          ]
        }
      ]
    },
    {
      "cell_type": "markdown",
      "source": [
        "# Feature Selection"
      ],
      "metadata": {
        "id": "nUrH5DsUBt1K"
      }
    },
    {
      "cell_type": "code",
      "source": [
        "data_corr = pd.concat([X_train, y_train], axis=1)\n",
        "corr = data_corr.corr()\n",
        "plt.figure(figsize=(10,7))\n",
        "sns.heatmap(corr, annot=True);"
      ],
      "metadata": {
        "colab": {
          "base_uri": "https://localhost:8080/",
          "height": 496
        },
        "id": "m-YEr6EoBsXa",
        "outputId": "c03eca81-31f4-4f29-cf53-2469f913cbe3"
      },
      "execution_count": null,
      "outputs": [
        {
          "output_type": "display_data",
          "data": {
            "image/png": "[encoded data removed]",
            "text/plain": [
              "<Figure size 720x504 with 2 Axes>"
            ]
          },
          "metadata": {
            "needs_background": "light"
          }
        }
      ]
    },
    {
      "cell_type": "code",
      "source": [
        "X_train.drop(['Self_Employed'], axis=1, inplace=True)\n",
        "\n",
        "train_eval_cross(models, X_train, y_train, skf)\n",
        "\n",
        "# looks like Self_Employed is not important\n",
        "# KNeighborsClassifier improved\n",
        "\n",
        "# droping all the features Except for Credit_History actually improved KNeighborsClassifier and didn't change anything in other models\n",
        "\n",
        "#X_train.drop(['Dependents', 'new_col_2', 'Education', 'Gender', 'Property_Area','Married', 'new_col'], axis=1, inplace=True)"
      ],
      "metadata": {
        "colab": {
          "base_uri": "https://localhost:8080/"
        },
        "id": "TGvpf-StBsk0",
        "outputId": "ee14503e-5a95-475c-b018-17d9ab665fcf"
      },
      "execution_count": null,
      "outputs": [
        {
          "output_type": "stream",
          "name": "stdout",
          "text": [
            "DecisionTreeClassifier :\n",
            " pre     0.792206\n",
            " rec     0.983871\n",
            " f1      0.877696\n",
            " loss    6.480790\n",
            " acc     0.812366\n",
            "Name: 0, dtype: float64\n",
            "------------------------------\n",
            "KNeighborsClassifier :\n",
            " pre     0.743373\n",
            " rec     0.916129\n",
            " f1      0.820736\n",
            " loss    9.453195\n",
            " acc     0.726307\n",
            "Name: 0, dtype: float64\n",
            "------------------------------\n",
            "NaiveBayesClassifier :\n",
            " pre     0.792206\n",
            " rec     0.983871\n",
            " f1      0.877696\n",
            " loss    6.480790\n",
            " acc     0.812366\n",
            "Name: 0, dtype: float64\n",
            "------------------------------\n"
          ]
        }
      ]
    },
    {
      "cell_type": "code",
      "source": [],
      "metadata": {
        "id": "cKMsmA6xB_Dj"
      },
      "execution_count": null,
      "outputs": []
    },
    {
      "cell_type": "code",
      "source": [],
      "metadata": {
        "id": "wSFxoKEXCG9m"
      },
      "execution_count": null,
      "outputs": []
    },
    {
      "cell_type": "markdown",
      "source": [
        "## Evaluating test model"
      ],
      "metadata": {
        "id": "k7PX0KA7CHbL"
      }
    },
    {
      "cell_type": "code",
      "source": [
        "X_test.head()"
      ],
      "metadata": {
        "colab": {
          "base_uri": "https://localhost:8080/",
          "height": 226
        },
        "id": "X-KvgxQSCLCV",
        "outputId": "cc5dc896-28a4-4866-dd60-ae63448f6fbc"
      },
      "execution_count": null,
      "outputs": [
        {
          "output_type": "execute_result",
          "data": {
            "text/html": [
              "<div>\n",
              "<style scoped>\n",
              "    .dataframe tbody tr th:only-of-type {\n",
              "        vertical-align: middle;\n",
              "    }\n",
              "\n",
              "    .dataframe tbody tr th {\n",
              "        vertical-align: top;\n",
              "    }\n",
              "\n",
              "    .dataframe thead th {\n",
              "        text-align: right;\n",
              "    }\n",
              "</style>\n",
              "<table border=\"1\" class=\"dataframe\">\n",
              "  <thead>\n",
              "    <tr style=\"text-align: right;\">\n",
              "      <th></th>\n",
              "      <th>Gender</th>\n",
              "      <th>Married</th>\n",
              "      <th>Dependents</th>\n",
              "      <th>Education</th>\n",
              "      <th>Self_Employed</th>\n",
              "      <th>Credit_History</th>\n",
              "      <th>Property_Area</th>\n",
              "      <th>ApplicantIncome</th>\n",
              "      <th>CoapplicantIncome</th>\n",
              "      <th>LoanAmount</th>\n",
              "      <th>Loan_Amount_Term</th>\n",
              "    </tr>\n",
              "  </thead>\n",
              "  <tbody>\n",
              "    <tr>\n",
              "      <th>596</th>\n",
              "      <td>1</td>\n",
              "      <td>1</td>\n",
              "      <td>2</td>\n",
              "      <td>1</td>\n",
              "      <td>1</td>\n",
              "      <td>1</td>\n",
              "      <td>0</td>\n",
              "      <td>6383</td>\n",
              "      <td>1000.0</td>\n",
              "      <td>187.0</td>\n",
              "      <td>360.0</td>\n",
              "    </tr>\n",
              "    <tr>\n",
              "      <th>506</th>\n",
              "      <td>1</td>\n",
              "      <td>1</td>\n",
              "      <td>0</td>\n",
              "      <td>0</td>\n",
              "      <td>0</td>\n",
              "      <td>1</td>\n",
              "      <td>2</td>\n",
              "      <td>20833</td>\n",
              "      <td>6667.0</td>\n",
              "      <td>480.0</td>\n",
              "      <td>360.0</td>\n",
              "    </tr>\n",
              "    <tr>\n",
              "      <th>126</th>\n",
              "      <td>1</td>\n",
              "      <td>1</td>\n",
              "      <td>3</td>\n",
              "      <td>0</td>\n",
              "      <td>0</td>\n",
              "      <td>1</td>\n",
              "      <td>0</td>\n",
              "      <td>23803</td>\n",
              "      <td>0.0</td>\n",
              "      <td>370.0</td>\n",
              "      <td>360.0</td>\n",
              "    </tr>\n",
              "    <tr>\n",
              "      <th>386</th>\n",
              "      <td>1</td>\n",
              "      <td>0</td>\n",
              "      <td>0</td>\n",
              "      <td>1</td>\n",
              "      <td>0</td>\n",
              "      <td>1</td>\n",
              "      <td>1</td>\n",
              "      <td>2346</td>\n",
              "      <td>1600.0</td>\n",
              "      <td>132.0</td>\n",
              "      <td>360.0</td>\n",
              "    </tr>\n",
              "    <tr>\n",
              "      <th>67</th>\n",
              "      <td>1</td>\n",
              "      <td>1</td>\n",
              "      <td>1</td>\n",
              "      <td>0</td>\n",
              "      <td>0</td>\n",
              "      <td>1</td>\n",
              "      <td>2</td>\n",
              "      <td>10750</td>\n",
              "      <td>0.0</td>\n",
              "      <td>312.0</td>\n",
              "      <td>360.0</td>\n",
              "    </tr>\n",
              "  </tbody>\n",
              "</table>\n",
              "</div>"
            ],
            "text/plain": [
              "     Gender  Married  ...  LoanAmount  Loan_Amount_Term\n",
              "596       1        1  ...       187.0             360.0\n",
              "506       1        1  ...       480.0             360.0\n",
              "126       1        1  ...       370.0             360.0\n",
              "386       1        0  ...       132.0             360.0\n",
              "67        1        1  ...       312.0             360.0\n",
              "\n",
              "[5 rows x 11 columns]"
            ]
          },
          "metadata": {},
          "execution_count": 1079
        }
      ]
    },
    {
      "cell_type": "code",
      "source": [
        "X_test_new = X_test.copy()"
      ],
      "metadata": {
        "id": "olmWK6k2CLE4"
      },
      "execution_count": null,
      "outputs": []
    },
    {
      "cell_type": "code",
      "source": [
        "x = []\n",
        "\n",
        "X_test_new['new_col'] = X_test_new['CoapplicantIncome'] / X_test_new['ApplicantIncome']  \n",
        "X_test_new['new_col_2'] = X_test_new['LoanAmount'] * X_test_new['Loan_Amount_Term']\n",
        "X_test_new.drop(['CoapplicantIncome', 'ApplicantIncome', 'Loan_Amount_Term', 'LoanAmount'], axis=1, inplace=True)\n",
        "\n",
        "X_test_new['new_col_2'] = np.log(X_test_new['new_col_2'])\n",
        "\n",
        "X_test_new['new_col'] = [x if x==0 else 1 for x in X_test_new['new_col']]\n",
        "\n",
        "X_test_new.drop(['Self_Employed'], axis=1, inplace=True)\n",
        "\n",
        "# drop all the features Except for Credit_History\n",
        "#X_test_new.drop(['Self_Employed','Dependents', 'new_col_2', 'Education', 'Gender', 'Property_Area','Married', 'new_col'], axis=1, inplace=True)"
      ],
      "metadata": {
        "id": "J5l7Hd2MCLH1"
      },
      "execution_count": null,
      "outputs": []
    },
    {
      "cell_type": "code",
      "source": [
        "X_test_new.head()"
      ],
      "metadata": {
        "colab": {
          "base_uri": "https://localhost:8080/",
          "height": 206
        },
        "id": "uVbSwVVQCLKN",
        "outputId": "84839926-13ea-47ca-818f-9751ee74a7d1"
      },
      "execution_count": null,
      "outputs": [
        {
          "output_type": "execute_result",
          "data": {
            "text/html": [
              "<div>\n",
              "<style scoped>\n",
              "    .dataframe tbody tr th:only-of-type {\n",
              "        vertical-align: middle;\n",
              "    }\n",
              "\n",
              "    .dataframe tbody tr th {\n",
              "        vertical-align: top;\n",
              "    }\n",
              "\n",
              "    .dataframe thead th {\n",
              "        text-align: right;\n",
              "    }\n",
              "</style>\n",
              "<table border=\"1\" class=\"dataframe\">\n",
              "  <thead>\n",
              "    <tr style=\"text-align: right;\">\n",
              "      <th></th>\n",
              "      <th>Gender</th>\n",
              "      <th>Married</th>\n",
              "      <th>Dependents</th>\n",
              "      <th>Education</th>\n",
              "      <th>Credit_History</th>\n",
              "      <th>Property_Area</th>\n",
              "      <th>new_col</th>\n",
              "      <th>new_col_2</th>\n",
              "    </tr>\n",
              "  </thead>\n",
              "  <tbody>\n",
              "    <tr>\n",
              "      <th>596</th>\n",
              "      <td>1</td>\n",
              "      <td>1</td>\n",
              "      <td>2</td>\n",
              "      <td>1</td>\n",
              "      <td>1</td>\n",
              "      <td>0</td>\n",
              "      <td>1.0</td>\n",
              "      <td>11.117213</td>\n",
              "    </tr>\n",
              "    <tr>\n",
              "      <th>506</th>\n",
              "      <td>1</td>\n",
              "      <td>1</td>\n",
              "      <td>0</td>\n",
              "      <td>0</td>\n",
              "      <td>1</td>\n",
              "      <td>2</td>\n",
              "      <td>1.0</td>\n",
              "      <td>12.059890</td>\n",
              "    </tr>\n",
              "    <tr>\n",
              "      <th>126</th>\n",
              "      <td>1</td>\n",
              "      <td>1</td>\n",
              "      <td>3</td>\n",
              "      <td>0</td>\n",
              "      <td>1</td>\n",
              "      <td>0</td>\n",
              "      <td>0.0</td>\n",
              "      <td>11.799607</td>\n",
              "    </tr>\n",
              "    <tr>\n",
              "      <th>386</th>\n",
              "      <td>1</td>\n",
              "      <td>0</td>\n",
              "      <td>0</td>\n",
              "      <td>1</td>\n",
              "      <td>1</td>\n",
              "      <td>1</td>\n",
              "      <td>1.0</td>\n",
              "      <td>10.768906</td>\n",
              "    </tr>\n",
              "    <tr>\n",
              "      <th>67</th>\n",
              "      <td>1</td>\n",
              "      <td>1</td>\n",
              "      <td>1</td>\n",
              "      <td>0</td>\n",
              "      <td>1</td>\n",
              "      <td>2</td>\n",
              "      <td>0.0</td>\n",
              "      <td>11.629107</td>\n",
              "    </tr>\n",
              "  </tbody>\n",
              "</table>\n",
              "</div>"
            ],
            "text/plain": [
              "     Gender  Married  Dependents  ...  Property_Area  new_col  new_col_2\n",
              "596       1        1           2  ...              0      1.0  11.117213\n",
              "506       1        1           0  ...              2      1.0  12.059890\n",
              "126       1        1           3  ...              0      0.0  11.799607\n",
              "386       1        0           0  ...              1      1.0  10.768906\n",
              "67        1        1           1  ...              2      0.0  11.629107\n",
              "\n",
              "[5 rows x 8 columns]"
            ]
          },
          "metadata": {},
          "execution_count": 1082
        }
      ]
    },
    {
      "cell_type": "code",
      "source": [
        "X_train.head()"
      ],
      "metadata": {
        "colab": {
          "base_uri": "https://localhost:8080/",
          "height": 206
        },
        "id": "Zjtl5e2TCV-U",
        "outputId": "e4bc1655-e5c3-4228-909f-2c531d18f4e3"
      },
      "execution_count": null,
      "outputs": [
        {
          "output_type": "execute_result",
          "data": {
            "text/html": [
              "<div>\n",
              "<style scoped>\n",
              "    .dataframe tbody tr th:only-of-type {\n",
              "        vertical-align: middle;\n",
              "    }\n",
              "\n",
              "    .dataframe tbody tr th {\n",
              "        vertical-align: top;\n",
              "    }\n",
              "\n",
              "    .dataframe thead th {\n",
              "        text-align: right;\n",
              "    }\n",
              "</style>\n",
              "<table border=\"1\" class=\"dataframe\">\n",
              "  <thead>\n",
              "    <tr style=\"text-align: right;\">\n",
              "      <th></th>\n",
              "      <th>Gender</th>\n",
              "      <th>Married</th>\n",
              "      <th>Dependents</th>\n",
              "      <th>Education</th>\n",
              "      <th>Credit_History</th>\n",
              "      <th>Property_Area</th>\n",
              "      <th>new_col</th>\n",
              "      <th>new_col_2</th>\n",
              "    </tr>\n",
              "  </thead>\n",
              "  <tbody>\n",
              "    <tr>\n",
              "      <th>269</th>\n",
              "      <td>0</td>\n",
              "      <td>0</td>\n",
              "      <td>1</td>\n",
              "      <td>0</td>\n",
              "      <td>1</td>\n",
              "      <td>2</td>\n",
              "      <td>1.0</td>\n",
              "      <td>10.385914</td>\n",
              "    </tr>\n",
              "    <tr>\n",
              "      <th>116</th>\n",
              "      <td>0</td>\n",
              "      <td>1</td>\n",
              "      <td>0</td>\n",
              "      <td>0</td>\n",
              "      <td>1</td>\n",
              "      <td>1</td>\n",
              "      <td>1.0</td>\n",
              "      <td>10.923057</td>\n",
              "    </tr>\n",
              "    <tr>\n",
              "      <th>95</th>\n",
              "      <td>1</td>\n",
              "      <td>0</td>\n",
              "      <td>0</td>\n",
              "      <td>0</td>\n",
              "      <td>1</td>\n",
              "      <td>2</td>\n",
              "      <td>0.0</td>\n",
              "      <td>10.872530</td>\n",
              "    </tr>\n",
              "    <tr>\n",
              "      <th>233</th>\n",
              "      <td>0</td>\n",
              "      <td>0</td>\n",
              "      <td>0</td>\n",
              "      <td>0</td>\n",
              "      <td>1</td>\n",
              "      <td>1</td>\n",
              "      <td>0.0</td>\n",
              "      <td>11.520894</td>\n",
              "    </tr>\n",
              "    <tr>\n",
              "      <th>211</th>\n",
              "      <td>1</td>\n",
              "      <td>1</td>\n",
              "      <td>3</td>\n",
              "      <td>0</td>\n",
              "      <td>0</td>\n",
              "      <td>1</td>\n",
              "      <td>1.0</td>\n",
              "      <td>10.738134</td>\n",
              "    </tr>\n",
              "  </tbody>\n",
              "</table>\n",
              "</div>"
            ],
            "text/plain": [
              "     Gender  Married  Dependents  ...  Property_Area  new_col  new_col_2\n",
              "269       0        0           1  ...              2      1.0  10.385914\n",
              "116       0        1           0  ...              1      1.0  10.923057\n",
              "95        1        0           0  ...              2      0.0  10.872530\n",
              "233       0        0           0  ...              1      0.0  11.520894\n",
              "211       1        1           3  ...              1      1.0  10.738134\n",
              "\n",
              "[5 rows x 8 columns]"
            ]
          },
          "metadata": {},
          "execution_count": 1083
        }
      ]
    },
    {
      "cell_type": "code",
      "source": [
        "for name,model in models.items():\n",
        "    print(name, end=':\\n')\n",
        "    loss(y_test, model.predict(X_test_new))\n",
        "    print('-'*40)"
      ],
      "metadata": {
        "colab": {
          "base_uri": "https://localhost:8080/"
        },
        "id": "YxZ7XvUNCWBI",
        "outputId": "7145552e-3805-4eff-a7ab-2c0a1aa55b92"
      },
      "execution_count": null,
      "outputs": [
        {
          "output_type": "stream",
          "name": "stdout",
          "text": [
            "DecisionTreeClassifier:\n",
            "  pre: 0.7838\n",
            "  rec: 0.9775\n",
            "  f1: 0.8700\n",
            "  loss: 6.9615\n",
            "  acc: 0.7984\n",
            "----------------------------------------\n",
            "KNeighborsClassifier:\n",
            "  pre: 0.7706\n",
            "  rec: 0.9438\n",
            "  f1: 0.8485\n",
            "  loss: 8.0324\n",
            "  acc: 0.7674\n",
            "----------------------------------------\n",
            "NaiveBayesClassifier:\n",
            "  pre: 0.8056\n",
            "  rec: 0.9775\n",
            "  f1: 0.8832\n",
            "  loss: 6.1582\n",
            "  acc: 0.8217\n",
            "----------------------------------------\n"
          ]
        }
      ]
    },
    {
      "cell_type": "code",
      "source": [],
      "metadata": {
        "id": "Knv-_E5gCZci"
      },
      "execution_count": null,
      "outputs": []
    },
    {
      "cell_type": "code",
      "source": [],
      "metadata": {
        "id": "vPqAcdqNCZfF"
      },
      "execution_count": null,
      "outputs": []
    }
  ]
}